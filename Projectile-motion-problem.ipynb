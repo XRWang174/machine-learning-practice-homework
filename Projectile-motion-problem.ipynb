{
 "cells": [
  {
   "cell_type": "code",
   "execution_count": 2,
   "id": "35fd6370",
   "metadata": {},
   "outputs": [
    {
     "name": "stderr",
     "output_type": "stream",
     "text": [
      "C:\\Users\\jhossain\\Anaconda3\\lib\\site-packages\\scipy\\__init__.py:155: UserWarning: A NumPy version >=1.18.5 and <1.25.0 is required for this version of SciPy (detected version 1.26.4\n",
      "  warnings.warn(f\"A NumPy version >={np_minversion} and <{np_maxversion}\"\n"
     ]
    },
    {
     "data": {
      "text/html": [
       "<div>\n",
       "<style scoped>\n",
       "    .dataframe tbody tr th:only-of-type {\n",
       "        vertical-align: middle;\n",
       "    }\n",
       "\n",
       "    .dataframe tbody tr th {\n",
       "        vertical-align: top;\n",
       "    }\n",
       "\n",
       "    .dataframe thead th {\n",
       "        text-align: right;\n",
       "    }\n",
       "</style>\n",
       "<table border=\"1\" class=\"dataframe\">\n",
       "  <thead>\n",
       "    <tr style=\"text-align: right;\">\n",
       "      <th></th>\n",
       "      <th>Time</th>\n",
       "      <th>Height</th>\n",
       "    </tr>\n",
       "  </thead>\n",
       "  <tbody>\n",
       "    <tr>\n",
       "      <th>0</th>\n",
       "      <td>0.0</td>\n",
       "      <td>0.352810</td>\n",
       "    </tr>\n",
       "    <tr>\n",
       "      <th>1</th>\n",
       "      <td>0.1</td>\n",
       "      <td>1.031031</td>\n",
       "    </tr>\n",
       "    <tr>\n",
       "      <th>2</th>\n",
       "      <td>0.2</td>\n",
       "      <td>1.999748</td>\n",
       "    </tr>\n",
       "    <tr>\n",
       "      <th>3</th>\n",
       "      <td>0.3</td>\n",
       "      <td>3.007179</td>\n",
       "    </tr>\n",
       "    <tr>\n",
       "      <th>4</th>\n",
       "      <td>0.4</td>\n",
       "      <td>3.589512</td>\n",
       "    </tr>\n",
       "    <tr>\n",
       "      <th>5</th>\n",
       "      <td>0.5</td>\n",
       "      <td>3.579544</td>\n",
       "    </tr>\n",
       "    <tr>\n",
       "      <th>6</th>\n",
       "      <td>0.6</td>\n",
       "      <td>4.426018</td>\n",
       "    </tr>\n",
       "    <tr>\n",
       "      <th>7</th>\n",
       "      <td>0.7</td>\n",
       "      <td>4.568729</td>\n",
       "    </tr>\n",
       "    <tr>\n",
       "      <th>8</th>\n",
       "      <td>0.8</td>\n",
       "      <td>4.843356</td>\n",
       "    </tr>\n",
       "    <tr>\n",
       "      <th>9</th>\n",
       "      <td>0.9</td>\n",
       "      <td>5.113120</td>\n",
       "    </tr>\n",
       "    <tr>\n",
       "      <th>10</th>\n",
       "      <td>1.0</td>\n",
       "      <td>5.128809</td>\n",
       "    </tr>\n",
       "    <tr>\n",
       "      <th>11</th>\n",
       "      <td>1.1</td>\n",
       "      <td>5.361855</td>\n",
       "    </tr>\n",
       "    <tr>\n",
       "      <th>12</th>\n",
       "      <td>1.2</td>\n",
       "      <td>5.096208</td>\n",
       "    </tr>\n",
       "    <tr>\n",
       "      <th>13</th>\n",
       "      <td>1.3</td>\n",
       "      <td>4.743335</td>\n",
       "    </tr>\n",
       "    <tr>\n",
       "      <th>14</th>\n",
       "      <td>1.4</td>\n",
       "      <td>4.484773</td>\n",
       "    </tr>\n",
       "    <tr>\n",
       "      <th>15</th>\n",
       "      <td>1.5</td>\n",
       "      <td>4.041735</td>\n",
       "    </tr>\n",
       "    <tr>\n",
       "      <th>16</th>\n",
       "      <td>1.6</td>\n",
       "      <td>3.754816</td>\n",
       "    </tr>\n",
       "    <tr>\n",
       "      <th>17</th>\n",
       "      <td>1.7</td>\n",
       "      <td>2.797968</td>\n",
       "    </tr>\n",
       "    <tr>\n",
       "      <th>18</th>\n",
       "      <td>1.8</td>\n",
       "      <td>2.186614</td>\n",
       "    </tr>\n",
       "    <tr>\n",
       "      <th>19</th>\n",
       "      <td>1.9</td>\n",
       "      <td>1.140181</td>\n",
       "    </tr>\n",
       "  </tbody>\n",
       "</table>\n",
       "</div>"
      ],
      "text/plain": [
       "    Time    Height\n",
       "0    0.0  0.352810\n",
       "1    0.1  1.031031\n",
       "2    0.2  1.999748\n",
       "3    0.3  3.007179\n",
       "4    0.4  3.589512\n",
       "5    0.5  3.579544\n",
       "6    0.6  4.426018\n",
       "7    0.7  4.568729\n",
       "8    0.8  4.843356\n",
       "9    0.9  5.113120\n",
       "10   1.0  5.128809\n",
       "11   1.1  5.361855\n",
       "12   1.2  5.096208\n",
       "13   1.3  4.743335\n",
       "14   1.4  4.484773\n",
       "15   1.5  4.041735\n",
       "16   1.6  3.754816\n",
       "17   1.7  2.797968\n",
       "18   1.8  2.186614\n",
       "19   1.9  1.140181"
      ]
     },
     "metadata": {},
     "output_type": "display_data"
    },
    {
     "data": {
      "text/plain": [
       "<matplotlib.collections.PathCollection at 0x2d7b7a6ce50>"
      ]
     },
     "execution_count": 2,
     "metadata": {},
     "output_type": "execute_result"
    },
    {
     "data": {
      "image/png": "[encoded data removed]",
      "text/plain": [
       "<Figure size 640x480 with 1 Axes>"
      ]
     },
     "metadata": {},
     "output_type": "display_data"
    }
   ],
   "source": [
    "import pandas as pd\n",
    "from sklearn.model_selection import train_test_split # we have to split data set into training and testing \n",
    "from sklearn.linear_model import LinearRegression \n",
    "from sklearn.metrics import mean_squared_error #MSE\n",
    "import matplotlib.pyplot as  plt \n",
    "import numpy as np\n",
    "from sklearn.preprocessing import PolynomialFeatures # to create polynomial features\n",
    "\n",
    "# Reading data from CSV file (Make sure you have uploaded data set .csv file in your working directory)\n",
    "data=pd.read_csv('projectile_motion_data.csv') # Created a data frame by reading from csv file \n",
    "display(data)\n",
    "X=data[['Time']] # INPUT Feature (time) \n",
    "y=data['Height'] # Actual output (height)\n",
    "plt.scatter(X,y)\n"
   ]
  },
  {
   "cell_type": "code",
   "execution_count": 3,
   "id": "84c116f4",
   "metadata": {},
   "outputs": [],
   "source": [
    "# Split into training and validation sets \n",
    "X_train, X_val, y_train, y_val = train_test_split(X, y, test_size=0.2, random_state=42) # random_state =starting state. you will have same test/training set for each run"
   ]
  },
  {
   "cell_type": "code",
   "execution_count": 6,
   "id": "2849579a",
   "metadata": {},
   "outputs": [
    {
     "name": "stdout",
     "output_type": "stream",
     "text": [
      "Coefficients: [-0.31052581]\n",
      "Intercept: 4.243690528861815\n",
      "Degree D=1 and validation MSE 6.543396068865846\n"
     ]
    }
   ],
   "source": [
    "# Train a linear (D=1) Model and caclulate validation MSE\n",
    "D=1\n",
    "my_linear_model = LinearRegression()\n",
    "my_linear_model.fit(X_train, y_train) # training model usign Xtrain and ytrain\n",
    "\n",
    "# Printing optimal model trainable parameters\n",
    "print(f'Coefficients: {my_linear_model.coef_}') # priting trained/optimal coeffs of polynomial terms\n",
    "print(f'Intercept: {my_linear_model.intercept_}') # trained/optimal wo\n",
    "\n",
    "# Make prediction using trained model for validation input \n",
    "y_pred = my_linear_model.predict(X_val) # Trained model will make prediction for Validation inputs (X_val) \n",
    "\n",
    "# Calculate validation MSE and print it \n",
    "mse_poly = mean_squared_error(y_val, y_pred) # MSE calculation\n",
    "print(f\"Degree D={D} and validation MSE {mse_poly}\")\n",
    " \n"
   ]
  },
  {
   "cell_type": "code",
   "execution_count": 7,
   "id": "f2673aaa",
   "metadata": {},
   "outputs": [
    {
     "name": "stdout",
     "output_type": "stream",
     "text": [
      "Coefficients: [ 9.76908536 -4.84188768]\n",
      "Intercept: 0.2692535720383056\n",
      "Degree D=2 and validation MSE 0.010571599331412933\n"
     ]
    }
   ],
   "source": [
    "# Train model for various D and calculate corresponding validation MSE   \n",
    "for D  in [2]:\n",
    "    poly = PolynomialFeatures(D, include_bias=False) # making polynomial features with Degree D=2\n",
    "    X_train_poly=poly.fit_transform(X_train) # Making new columns x^2, x^3, x^4...x^D \n",
    "    \n",
    "    # Create and train  model\n",
    "    my_model = LinearRegression()\n",
    "    my_model.fit(X_train_poly, y_train) # training model usign Xtrain and ytrain\n",
    "    # one intercept (wo) and D coeffs (w1, w2,....WD) for polynomial terms \n",
    "    print(f'Coefficients: {my_model.coef_}') # priting trained/optimal coeffs of polynomial terms\n",
    "    print(f'Intercept: {my_model.intercept_}') # trained/optimal wo\n",
    "\n",
    "    \n",
    "    # Predictions and evaluation\n",
    "    X_val_poly=poly.fit_transform(X_val) # Making new columns x^2, x^3, x^4...x^D \n",
    "    y_pred = my_model.predict(X_val_poly) # Trained model will make prediction for test inputs (X_test) \n",
    "\n",
    "    # Calculate validation MSE and print it \n",
    "    mse_poly = mean_squared_error(y_val, y_pred) # MSE calculation\n",
    "    print(f\"Degree D={D} and validation MSE {mse_poly}\")\n"
   ]
  },
  {
   "cell_type": "code",
   "execution_count": null,
   "id": "932a2cdb",
   "metadata": {},
   "outputs": [],
   "source": [
    "Home work Try other values D and select the suitable one. We can discuss tomorrow. \n",
    "\n"
   ]
  }
 ],
 "metadata": {
  "kernelspec": {
   "display_name": "environment3",
   "language": "python",
   "name": "python3"
  },
  "language_info": {
   "codemirror_mode": {
    "name": "ipython",
    "version": 3
   },
   "file_extension": ".py",
   "mimetype": "text/x-python",
   "name": "python",
   "nbconvert_exporter": "python",
   "pygments_lexer": "ipython3",
   "version": "3.8.20"
  }
 },
 "nbformat": 4,
 "nbformat_minor": 5
}
