{
 "cells": [
  {
   "cell_type": "code",
   "execution_count": 8,
   "id": "8edf4a23",
   "metadata": {},
   "outputs": [
    {
     "name": "stdout",
     "output_type": "stream",
     "text": [
      "✅ 训练数据形状: (1000, 784)\n",
      "✅ 训练标签形状: (1000,)\n",
      "✅ 测试数据形状: (1000, 784)\n",
      "✅ 测试标签形状: (1000,)\n"
     ]
    }
   ],
   "source": [
    "import numpy as np\n",
    "\n",
    "# Function to generate data with noise\n",
    "def generate_data(noise_factor=0.2):\n",
    "    # Load MNIST dataset\n",
    "    from tensorflow.keras.datasets import mnist\n",
    "\n",
    "    # Automatically downloads MNIST the first time\n",
    "    (X_train, y_train), (X_test, y_test) = mnist.load_data()\n",
    "\n",
    "    # Flatten 28x28 images to 784 features\n",
    "    X_train_flat = X_train.reshape(-1, 784)\n",
    "    X_test_flat = X_test.reshape(-1, 784)\n",
    "\n",
    "    # 🔧 修复：同时截取训练数据和标签到相同数量\n",
    "    X_train_flat = X_train_flat[:1000]\n",
    "    X_test_flat = X_test_flat[:1000]\n",
    "    y_train = y_train[:1000]  # ✅ 添加：同样截取标签\n",
    "    y_test = y_test[:1000]    # ✅ 添加：同样截取测试标签\n",
    "\n",
    "    # Add noise to the data\n",
    "    X_train_noisy = X_train_flat + noise_factor * np.random.normal(loc=0.0, scale=1.0, size=X_train_flat.shape)\n",
    "    # Add noise to the data\n",
    "    X_test_noisy = X_test_flat + noise_factor * np.random.normal(loc=0.0, scale=1.0, size=X_test_flat.shape)\n",
    "\n",
    "    # Clip noisy data to ensure pixel values are in a valid range (0 to 255)\n",
    "    X_train_noisy = np.clip(X_train_noisy, 0, 255)  # 🔧 修复：应该是 noisy 数据\n",
    "    X_test_noisy = np.clip(X_test_noisy, 0, 255)    # 🔧 修复：应该是 noisy 数据\n",
    "\n",
    "    # 🔍 调试信息：打印数据形状\n",
    "    print(f\"✅ 训练数据形状: {X_train_noisy.shape}\")\n",
    "    print(f\"✅ 训练标签形状: {y_train.shape}\")\n",
    "    print(f\"✅ 测试数据形状: {X_test_noisy.shape}\")\n",
    "    print(f\"✅ 测试标签形状: {y_test.shape}\")\n",
    "\n",
    "    return X_train_noisy, X_test_noisy, y_train, y_test\n",
    "\n",
    "\n",
    "X_train, X_valid, y_train, y_valid = generate_data()"
   ]
  },
  {
   "cell_type": "code",
   "execution_count": 13,
   "id": "db9d03a9",
   "metadata": {},
   "outputs": [
    {
     "name": "stdout",
     "output_type": "stream",
     "text": [
      "Test Accuracy: 82.00%\n"
     ]
    }
   ],
   "source": [
    "from sklearn.model_selection import train_test_split\n",
    "from sklearn.linear_model import LogisticRegression\n",
    "from sklearn.metrics import precision_score,recall_score, accuracy_score\n",
    "# Train logistic regression classifier\n",
    "log_reg = LogisticRegression(max_iter=1000, random_state=42)\n",
    "log_reg.fit(X_train, y_train)\n",
    "# Predict the test set\n",
    "y_pred = log_reg.predict(X_valid)\n",
    "# Calculate accuracy\n",
    "accuracy = accuracy_score(y_valid, y_pred)\n",
    "print(f\"Test Accuracy: {accuracy * 100:.2f}%\")"
   ]
  },
  {
   "cell_type": "code",
   "execution_count": 19,
   "id": "b3ad1505",
   "metadata": {},
   "outputs": [
    {
     "name": "stdout",
     "output_type": "stream",
     "text": [
      "Number of Components: 150, Test Accuracy: 81.90%\n"
     ]
    }
   ],
   "source": [
    "import numpy as np\n",
    "from sklearn.decomposition import PCA\n",
    "# At home work on this \n",
    "n_components = 150 # Keeping n- componenst \n",
    "\n",
    "\n",
    "pca = PCA(n_components=n_components) # going to do principal component \n",
    "X_train_pca = pca.fit_transform(X_train)\n",
    "X_valid_pca = pca.transform(X_valid)\n",
    "\n",
    "# Train logistic regression classifier\n",
    "log_reg = LogisticRegression(max_iter=1000, random_state=42)\n",
    "log_reg.fit(X_train_pca, y_train)\n",
    "\n",
    "# Predict the test set\n",
    "y_pred = log_reg.predict(X_valid_pca)\n",
    "\n",
    "# Calculate accuracy\n",
    "accuracy = accuracy_score(y_valid, y_pred)\n",
    "print(f\"Number of Components: {n_components}, Test Accuracy: {accuracy * 100:.2f}%\")"
   ]
  }
 ],
 "metadata": {
  "kernelspec": {
   "display_name": "base",
   "language": "python",
   "name": "python3"
  },
  "language_info": {
   "codemirror_mode": {
    "name": "ipython",
    "version": 3
   },
   "file_extension": ".py",
   "mimetype": "text/x-python",
   "name": "python",
   "nbconvert_exporter": "python",
   "pygments_lexer": "ipython3",
   "version": "3.13.5"
  }
 },
 "nbformat": 4,
 "nbformat_minor": 5
}
