{
 "cells": [
  {
   "cell_type": "code",
   "execution_count": 1,
   "id": "6bae4368",
   "metadata": {},
   "outputs": [
    {
     "name": "stdout",
     "output_type": "stream",
     "text": [
      "w0=7.71 and w2=2.00\n",
      "min MSE is 1.40\n",
      "Hours spent in Lec 25 and predicted mark 57.64\n"
     ]
    }
   ],
   "source": [
    "# Python code to calculate optimal w for the least square problem.\n",
    "#Import packages\n",
    "import numpy as np\n",
    "import matplotlib.pyplot as plt\n",
    "\n",
    "P=15 #total number of points\n",
    "hr_st_list=[15, 18, 33, 22, 5, 29, 8, 5, 30, 8, 16, 1, 24, 20, 2]\n",
    "mrk_st_list=[33, 37, 79, 57, 25, 62, 31, 12, 75, 26, 40, 8, 49, 40, 13]\n",
    "y=np.array(mrk_st_list)\n",
    "list_ones=[1]*P # python list of ones\n",
    "X=np.zeros([P,2])\n",
    "X[:,0]=np.array(list_ones)\n",
    "X[:,1]=np.array(hr_st_list)\n",
    "\n",
    "XT=np.transpose(X)\n",
    "H=np.matmul(XT,X)\n",
    "XTX_inv_XT=np.matmul(np.linalg.inv(H),XT)\n",
    "W_opt=np.matmul(XTX_inv_XT,y) #Optimal w\n",
    "print(f\"w0={W_opt[0]:.2f} and w2={W_opt[1]:.2f}\")\n",
    "\n",
    "#min MSE calculation\n",
    "MinMSE=1/P*np.linalg.norm(np.matmul(X,W_opt)-y)\n",
    "print(f\"min MSE is {MinMSE:.2f}\")\n",
    "\n",
    "#predicting  marks \n",
    "hrs_spent=25\n",
    "pred_mrk=W_opt[0]+W_opt[1]*hrs_spent\n",
    "print(f\"Hours spent in Lec {hrs_spent} and predicted mark {pred_mrk:.2f}\")"
   ]
  }
 ],
 "metadata": {
  "kernelspec": {
   "display_name": "environment3",
   "language": "python",
   "name": "python3"
  },
  "language_info": {
   "codemirror_mode": {
    "name": "ipython",
    "version": 3
   },
   "file_extension": ".py",
   "mimetype": "text/x-python",
   "name": "python",
   "nbconvert_exporter": "python",
   "pygments_lexer": "ipython3",
   "version": "3.8.20"
  }
 },
 "nbformat": 4,
 "nbformat_minor": 5
}
