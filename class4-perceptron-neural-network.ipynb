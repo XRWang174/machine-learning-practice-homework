{
 "cells": [
  {
   "cell_type": "markdown",
   "id": "7a2baf4d",
   "metadata": {},
   "source": [
    "example 1\n",
    "\n",
    "python code 实现"
   ]
  },
  {
   "cell_type": "code",
   "execution_count": 1,
   "id": "494ad263",
   "metadata": {},
   "outputs": [],
   "source": [
    "from keras.models import Sequential\n",
    "from keras.layers import Dense\n",
    "\n",
    "ex1model = Sequential() # layers will be connected sequentially\n",
    "# input layer and Hidden layer-1\n",
    "ex1model.add(Dense(units=4, input_dim=2, kernel_initializer='normal', activation='relu')) \n",
    "# units=No. of Neurons, input_dim=no. of input features, activation=activation function\n",
    "\n",
    "# Hidden layer 2\n",
    "ex1model.add(Dense(units=2, kernel_initializer='normal', activation='sigmoid')) # Note that after the first layer,  don't need to specify  input_dim\n",
    "\n",
    "# output layer\n",
    "ex1model.add(Dense(units=2, kernel_initializer='normal')) #default  activation is linear (can use linear activation  at the last)"
   ]
  },
  {
   "cell_type": "code",
   "execution_count": 2,
   "id": "f1f308fb",
   "metadata": {},
   "outputs": [
    {
     "name": "stdout",
     "output_type": "stream",
     "text": [
      "Model: \"sequential\"\n",
      "_________________________________________________________________\n",
      " Layer (type)                Output Shape              Param #   \n",
      "=================================================================\n",
      " dense (Dense)               (None, 4)                 12        \n",
      "                                                                 \n",
      " dense_1 (Dense)             (None, 2)                 10        \n",
      "                                                                 \n",
      " dense_2 (Dense)             (None, 2)                 6         \n",
      "                                                                 \n",
      "=================================================================\n",
      "Total params: 28 (112.00 Byte)\n",
      "Trainable params: 28 (112.00 Byte)\n",
      "Non-trainable params: 0 (0.00 Byte)\n",
      "_________________________________________________________________\n",
      "None\n"
     ]
    }
   ],
   "source": [
    "print(ex1model.summary()) # print the model summary"
   ]
  },
  {
   "cell_type": "markdown",
   "id": "6c7680fc",
   "metadata": {},
   "source": [
    "example 2\n",
    "\n",
    "practice\n",
    "\n",
    "You are asked to create a dense or fully connected (dense) NN that has 3-inputs, three hidden layers (hidden layer-1 has 64 units/neurons, hidden layer-2 has 32 units/neurons, hidden layer-3 has 8 units/neurons) and one outputs. Write a python code to create this model."
   ]
  },
  {
   "cell_type": "code",
   "execution_count": 4,
   "id": "e7754890",
   "metadata": {},
   "outputs": [],
   "source": [
    "from keras.models import Sequential\n",
    "from keras.layers import Dense\n",
    "\n",
    "ex2model=Sequential()\n",
    "\n",
    "# input nad hidden layer 1\n",
    "ex2model.add(Dense(units=64,input_dim=3, kernel_initializer='normal', activation='relu'))\n",
    "\n",
    "# hidden layer 2\n",
    "ex2model.add(Dense(units=32, kernel_initializer='normal', activation='tanh'))\n",
    "\n",
    "# hidden layer 3\n",
    "ex2model.add(Dense(units=8, kernel_initializer='normal', activation='tanh'))\n",
    "\n",
    "#Output layer\n",
    "ex2model.add(Dense(units=1, kernel_initializer='normal'))"
   ]
  }
 ],
 "metadata": {
  "kernelspec": {
   "display_name": "environment3",
   "language": "python",
   "name": "python3"
  },
  "language_info": {
   "codemirror_mode": {
    "name": "ipython",
    "version": 3
   },
   "file_extension": ".py",
   "mimetype": "text/x-python",
   "name": "python",
   "nbconvert_exporter": "python",
   "pygments_lexer": "ipython3",
   "version": "3.8.20"
  }
 },
 "nbformat": 4,
 "nbformat_minor": 5
}
