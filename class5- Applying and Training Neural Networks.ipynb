{
 "cells": [
  {
   "cell_type": "markdown",
   "id": "f610d30b",
   "metadata": {},
   "source": [
    "Course Project (Lane Follower): Building NN Model in Python "
   ]
  },
  {
   "cell_type": "code",
   "execution_count": 1,
   "id": "d8f99503",
   "metadata": {},
   "outputs": [
    {
     "name": "stdout",
     "output_type": "stream",
     "text": [
      "Model: \"sequential\"\n",
      "_________________________________________________________________\n",
      " Layer (type)                Output Shape              Param #   \n",
      "=================================================================\n",
      " flatten (Flatten)           (None, 6600)              0         \n",
      "                                                                 \n",
      " dense (Dense)               (None, 8)                 52808     \n",
      "                                                                 \n",
      " dense_1 (Dense)             (None, 4)                 36        \n",
      "                                                                 \n",
      " dense_2 (Dense)             (None, 1)                 5         \n",
      "                                                                 \n",
      "=================================================================\n",
      "Total params: 52849 (206.44 KB)\n",
      "Trainable params: 52849 (206.44 KB)\n",
      "Non-trainable params: 0 (0.00 Byte)\n",
      "_________________________________________________________________\n",
      "None\n"
     ]
    }
   ],
   "source": [
    "import keras as ks # Keras is an open-source, high-level neural networks \n",
    "#application programming interface written in Python. \n",
    "\n",
    "from keras.models import Sequential\n",
    "from keras.layers import Dense, InputLayer, Flatten\n",
    "model = Sequential()\n",
    "\n",
    "model.add(InputLayer(input_shape=(66, 100, 1)))\n",
    "model.add(Flatten()) # flatten layer to make image a vector\n",
    "\n",
    "# Hidden Layer 1 with \n",
    "model.add(Dense(8, activation='sigmoid'))\n",
    "\n",
    "model.add(Dense(4, activation='sigmoid')) # hidden dense layer with 16 units\n",
    "model.add(Dense(1 ,activation='linear'))\n",
    "print(model.summary()) # print a summary of the model\n"
   ]
  },
  {
   "cell_type": "markdown",
   "id": "f6b0c38b",
   "metadata": {},
   "source": [
    "Python Code for Training a NN"
   ]
  },
  {
   "cell_type": "markdown",
   "id": "d587d486",
   "metadata": {},
   "source": [
    "Once the model is created, you can config the model with losses and metrics with \n",
    "model.compile()."
   ]
  },
  {
   "cell_type": "code",
   "execution_count": null,
   "id": "b5836fb3",
   "metadata": {},
   "outputs": [],
   "source": [
    "model.compile(loss='mean_squared_error', optimizer='adam')"
   ]
  },
  {
   "cell_type": "markdown",
   "id": "ae10977b",
   "metadata": {},
   "source": [
    "Note: optimizer='adam’. Adam optimization is a stochastic gradient descent method \n",
    "that is based on adaptive estimation of first-order and second-order moments. \n",
    "see other optimizer here https://www.tensorflow.org/api_docs/python/tf/keras/optimizers\n"
   ]
  },
  {
   "cell_type": "markdown",
   "id": "1c427b5c",
   "metadata": {},
   "source": [
    "Then  train the model with model.fit()"
   ]
  },
  {
   "cell_type": "code",
   "execution_count": null,
   "id": "dd61d64a",
   "metadata": {},
   "outputs": [],
   "source": [
    "model.fit(X_train, y_train, batch_size = 32, epochs = 50, verbose=0)"
   ]
  },
  {
   "cell_type": "markdown",
   "id": "41dc13b8",
   "metadata": {},
   "source": [
    "Note: X_train=Input data, y_train=target/actual output, batch_size:Integer or none. Number of samples per gradient update. Defualt is=32, epochs: Integer. Number of epochs to train the model. An epoch is an iteration over the entire X_train and y_train data provided (unless the steps_per_epoch flag is set to something other than None). \n",
    "\n",
    "You can set a value of steps_per_epoch: A number of batches of samples before declaring one epoch finished and starting the next epoch. \n",
    "\n",
    "See https://keras.io/api/models/model_training_apis/"
   ]
  }
 ],
 "metadata": {
  "kernelspec": {
   "display_name": "environment3",
   "language": "python",
   "name": "python3"
  },
  "language_info": {
   "codemirror_mode": {
    "name": "ipython",
    "version": 3
   },
   "file_extension": ".py",
   "mimetype": "text/x-python",
   "name": "python",
   "nbconvert_exporter": "python",
   "pygments_lexer": "ipython3",
   "version": "3.8.20"
  }
 },
 "nbformat": 4,
 "nbformat_minor": 5
}
