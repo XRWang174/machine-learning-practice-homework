{
 "cells": [
  {
   "cell_type": "markdown",
   "id": "415a533a",
   "metadata": {},
   "source": [
    "In this example, you are going to build, train, and check validation error of fully connected/dense neural networks while varying some hyper parameters e.g., number of layers, the number of data points (training and testing), the number of epochs you train.\n"
   ]
  },
  {
   "cell_type": "markdown",
   "id": "434c5b52",
   "metadata": {},
   "source": [
    "1.Generate N data points X_data (input) and y_data (output) using following code."
   ]
  },
  {
   "cell_type": "code",
   "execution_count": 1,
   "id": "6aa19056",
   "metadata": {},
   "outputs": [],
   "source": [
    "import numpy as np\n",
    "\n",
    "import math as mt\n",
    "\n",
    "import matplotlib.pyplot as plt\n",
    "\n",
    "\n",
    "\n",
    "import random\n",
    "N=1000\n",
    "x=np.linspace(-2*mt.pi,2*mt.pi,N)\n",
    "\n",
    "ya=(np.sin(x))*x**2+2*np.sin(x)\n",
    "\n",
    "z=np.random.randn(1,N)\n",
    "\n",
    "y =ya+z\n",
    "\n",
    "X_data=np.reshape(x,[N,1])\n",
    "\n",
    "y_data=np.reshape(y,[N,1])\n"
   ]
  },
  {
   "cell_type": "markdown",
   "id": "b084481a",
   "metadata": {},
   "source": [
    "2.Scatter plot data points X_data (input) and y_data (output). You can use following. Observer the relationship between x and y.  \n"
   ]
  },
  {
   "cell_type": "code",
   "execution_count": 2,
   "id": "0e2226ca",
   "metadata": {},
   "outputs": [
    {
     "data": {
      "text/plain": [
       "<matplotlib.collections.PathCollection at 0x10e3ff250>"
      ]
     },
     "execution_count": 2,
     "metadata": {},
     "output_type": "execute_result"
    },
    {
     "data": {
      "image/png": "[encoded data removed]",
      "text/plain": [
       "<Figure size 640x480 with 1 Axes>"
      ]
     },
     "metadata": {},
     "output_type": "display_data"
    }
   ],
   "source": [
    "plt.scatter(x,y)\n"
   ]
  },
  {
   "cell_type": "markdown",
   "id": "d01bbfeb",
   "metadata": {},
   "source": [
    "3.You need to  split data into training and validation set. You are going to use train_test_split  from sklearn. Yon need to import as follows, \n"
   ]
  },
  {
   "cell_type": "code",
   "execution_count": 3,
   "id": "5f636f3a",
   "metadata": {},
   "outputs": [],
   "source": [
    "from sklearn.model_selection import train_test_split\n",
    "X_train, X_test, y_train, y_test = train_test_split(X_data, y_data, test_size=0.2, random_state=42)\n"
   ]
  },
  {
   "cell_type": "markdown",
   "id": "5c9569b8",
   "metadata": {},
   "source": [
    "4.Now you use the following code to make training set with input and output together\n"
   ]
  },
  {
   "cell_type": "code",
   "execution_count": 12,
   "id": "2fbefb7f",
   "metadata": {},
   "outputs": [],
   "source": [
    "#define batch size\n",
    "BATCH_SIZE=32\n",
    "import tensorflow as tf\n",
    "\n",
    "train_ds = tf.data.Dataset.from_tensor_slices((X_train, y_train)) # create a dataset from X_train and y_train\n",
    "train_ds = train_ds.repeat()\n",
    "train_ds = train_ds.shuffle(buffer_size=len(X_train)) # shuffle the dataset\n",
    "train_ds = train_ds.batch(BATCH_SIZE) # batch the dataset\n",
    "train_ds = train_ds.prefetch(tf.data.experimental.AUTOTUNE) # prefetch the dataset to improve performance\n",
    "\n",
    "# create a dataset from the testing data and make a data pipeline\n",
    "test_ds = tf.data.Dataset.from_tensor_slices((X_test, y_test)) # create a dataset from X_test and y_test\n",
    "test_ds = test_ds.repeat() # repeat the dataset\n",
    "test_ds = test_ds.batch(BATCH_SIZE) # batch the dataset\n",
    "test_ds = test_ds.prefetch(tf.data.experimental.AUTOTUNE) # prefetch the dataset to improve performance\n"
   ]
  },
  {
   "cell_type": "markdown",
   "id": "1b178e52",
   "metadata": {},
   "source": [
    "5.Now you plan to use dense neural network to approximate the relationship between x and y. To do this, you implement a fully connected neural networks that has one input, two hidden layers, (hidden layer one has 32 units/neurons and hidden layer two has 16 units/neurons) and one output layer.  Your code should print your model summary. A sample code is given below.\n"
   ]
  },
  {
   "cell_type": "code",
   "execution_count": 13,
   "id": "89f4c9d8",
   "metadata": {},
   "outputs": [
    {
     "name": "stdout",
     "output_type": "stream",
     "text": [
      "Model: \"sequential_2\"\n",
      "_________________________________________________________________\n",
      " Layer (type)                Output Shape              Param #   \n",
      "=================================================================\n",
      " dense_6 (Dense)             (None, 32)                64        \n",
      "                                                                 \n",
      " dense_7 (Dense)             (None, 16)                528       \n",
      "                                                                 \n",
      " dense_8 (Dense)             (None, 1)                 17        \n",
      "                                                                 \n",
      "=================================================================\n",
      "Total params: 609 (2.38 KB)\n",
      "Trainable params: 609 (2.38 KB)\n",
      "Non-trainable params: 0 (0.00 Byte)\n",
      "_________________________________________________________________\n",
      "None\n"
     ]
    }
   ],
   "source": [
    "from keras.models import Sequential\n",
    "from keras.layers import Dense\n",
    "\n",
    "mymodel = Sequential()\n",
    "\n",
    "# input and Hidden layer-1\n",
    "mymodel.add(Dense(units=32, input_dim=1, kernel_initializer='normal',activation='relu'))\n",
    "# Hidden layer-2\n",
    "mymodel.add(Dense(units=16, kernel_initializer='normal', activation='relu'))\n",
    "\n",
    "# output layer\n",
    "mymodel.add(Dense(units=1, kernel_initializer='normal'))\n",
    "print(mymodel.summary())"
   ]
  },
  {
   "cell_type": "markdown",
   "id": "3f410ade",
   "metadata": {},
   "source": [
    "\n",
    "6.Once you created your NN, compile and train your implemented dense neural network using following command"
   ]
  },
  {
   "cell_type": "code",
   "execution_count": 14,
   "id": "743c0c15",
   "metadata": {},
   "outputs": [
    {
     "name": "stdout",
     "output_type": "stream",
     "text": [
      "Epoch 1/100\n",
      "25/25 [==============================] - 0s 2ms/step - loss: 166.9324 - val_loss: 161.5942\n",
      "Epoch 2/100\n",
      "25/25 [==============================] - 0s 579us/step - loss: 170.0245 - val_loss: 159.2472\n",
      "Epoch 3/100\n",
      "25/25 [==============================] - 0s 566us/step - loss: 157.8409 - val_loss: 153.3867\n",
      "Epoch 4/100\n",
      "25/25 [==============================] - 0s 520us/step - loss: 146.9434 - val_loss: 142.2850\n",
      "Epoch 5/100\n",
      "25/25 [==============================] - 0s 527us/step - loss: 135.4573 - val_loss: 125.1086\n",
      "Epoch 6/100\n",
      "25/25 [==============================] - 0s 528us/step - loss: 122.4228 - val_loss: 106.1736\n",
      "Epoch 7/100\n",
      "25/25 [==============================] - 0s 582us/step - loss: 96.0787 - val_loss: 90.7512\n",
      "Epoch 8/100\n",
      "25/25 [==============================] - 0s 559us/step - loss: 86.0579 - val_loss: 83.0955\n",
      "Epoch 9/100\n",
      "25/25 [==============================] - 0s 591us/step - loss: 75.4925 - val_loss: 80.8085\n",
      "Epoch 10/100\n",
      "25/25 [==============================] - 0s 522us/step - loss: 78.6695 - val_loss: 79.7889\n",
      "Epoch 11/100\n",
      "25/25 [==============================] - 0s 844us/step - loss: 74.1254 - val_loss: 79.0568\n",
      "Epoch 12/100\n",
      "25/25 [==============================] - 0s 683us/step - loss: 76.5620 - val_loss: 78.3471\n",
      "Epoch 13/100\n",
      "25/25 [==============================] - 0s 746us/step - loss: 72.7817 - val_loss: 77.4982\n",
      "Epoch 14/100\n",
      "25/25 [==============================] - 0s 1ms/step - loss: 74.8302 - val_loss: 76.7940\n",
      "Epoch 15/100\n",
      "25/25 [==============================] - 0s 516us/step - loss: 73.2118 - val_loss: 75.8323\n",
      "Epoch 16/100\n",
      "25/25 [==============================] - 0s 498us/step - loss: 71.0592 - val_loss: 74.8848\n",
      "Epoch 17/100\n",
      "25/25 [==============================] - 0s 540us/step - loss: 68.4948 - val_loss: 74.3843\n",
      "Epoch 18/100\n",
      "25/25 [==============================] - 0s 511us/step - loss: 74.0722 - val_loss: 73.4108\n",
      "Epoch 19/100\n",
      "25/25 [==============================] - 0s 478us/step - loss: 69.7972 - val_loss: 72.5553\n",
      "Epoch 20/100\n",
      "25/25 [==============================] - 0s 533us/step - loss: 68.3538 - val_loss: 71.8389\n",
      "Epoch 21/100\n",
      "25/25 [==============================] - 0s 497us/step - loss: 66.4764 - val_loss: 71.1434\n",
      "Epoch 22/100\n",
      "25/25 [==============================] - 0s 506us/step - loss: 67.5050 - val_loss: 70.2058\n",
      "Epoch 23/100\n",
      "25/25 [==============================] - 0s 493us/step - loss: 66.8038 - val_loss: 69.4850\n",
      "Epoch 24/100\n",
      "25/25 [==============================] - 0s 505us/step - loss: 66.1589 - val_loss: 68.8523\n",
      "Epoch 25/100\n",
      "25/25 [==============================] - 0s 492us/step - loss: 66.2005 - val_loss: 67.8861\n",
      "Epoch 26/100\n",
      "25/25 [==============================] - 0s 496us/step - loss: 64.7797 - val_loss: 67.2528\n",
      "Epoch 27/100\n",
      "25/25 [==============================] - 0s 711us/step - loss: 64.0618 - val_loss: 66.2691\n",
      "Epoch 28/100\n",
      "25/25 [==============================] - 0s 615us/step - loss: 62.0117 - val_loss: 65.4657\n",
      "Epoch 29/100\n",
      "25/25 [==============================] - 0s 600us/step - loss: 61.1818 - val_loss: 64.8221\n",
      "Epoch 30/100\n",
      "25/25 [==============================] - 0s 559us/step - loss: 63.8140 - val_loss: 64.0873\n",
      "Epoch 31/100\n",
      "25/25 [==============================] - 0s 587us/step - loss: 60.3985 - val_loss: 63.0974\n",
      "Epoch 32/100\n",
      "25/25 [==============================] - 0s 490us/step - loss: 61.1273 - val_loss: 62.4543\n",
      "Epoch 33/100\n",
      "25/25 [==============================] - 0s 537us/step - loss: 62.3877 - val_loss: 61.8840\n",
      "Epoch 34/100\n",
      "25/25 [==============================] - 0s 493us/step - loss: 54.0339 - val_loss: 60.8691\n",
      "Epoch 35/100\n",
      "25/25 [==============================] - 0s 524us/step - loss: 58.1827 - val_loss: 59.8399\n",
      "Epoch 36/100\n",
      "25/25 [==============================] - 0s 506us/step - loss: 56.9634 - val_loss: 59.0108\n",
      "Epoch 37/100\n",
      "25/25 [==============================] - 0s 486us/step - loss: 56.6928 - val_loss: 58.2668\n",
      "Epoch 38/100\n",
      "25/25 [==============================] - 0s 527us/step - loss: 57.2704 - val_loss: 57.5419\n",
      "Epoch 39/100\n",
      "25/25 [==============================] - 0s 486us/step - loss: 56.1490 - val_loss: 56.6571\n",
      "Epoch 40/100\n",
      "25/25 [==============================] - 0s 568us/step - loss: 52.3315 - val_loss: 55.7487\n",
      "Epoch 41/100\n",
      "25/25 [==============================] - 0s 491us/step - loss: 56.0077 - val_loss: 55.0393\n",
      "Epoch 42/100\n",
      "25/25 [==============================] - 0s 507us/step - loss: 52.0666 - val_loss: 54.2633\n",
      "Epoch 43/100\n",
      "25/25 [==============================] - 0s 533us/step - loss: 50.1787 - val_loss: 53.8159\n",
      "Epoch 44/100\n",
      "25/25 [==============================] - 0s 528us/step - loss: 52.9050 - val_loss: 52.8144\n",
      "Epoch 45/100\n",
      "25/25 [==============================] - 0s 683us/step - loss: 50.0305 - val_loss: 51.7779\n",
      "Epoch 46/100\n",
      "25/25 [==============================] - 0s 1ms/step - loss: 52.8964 - val_loss: 51.4217\n",
      "Epoch 47/100\n",
      "25/25 [==============================] - 0s 1ms/step - loss: 49.0560 - val_loss: 50.3097\n",
      "Epoch 48/100\n",
      "25/25 [==============================] - 0s 498us/step - loss: 48.1400 - val_loss: 49.9181\n",
      "Epoch 49/100\n",
      "25/25 [==============================] - 0s 544us/step - loss: 49.9330 - val_loss: 48.8847\n",
      "Epoch 50/100\n",
      "25/25 [==============================] - 0s 501us/step - loss: 50.6254 - val_loss: 48.3218\n",
      "Epoch 51/100\n",
      "25/25 [==============================] - 0s 529us/step - loss: 47.4027 - val_loss: 47.7955\n",
      "Epoch 52/100\n",
      "25/25 [==============================] - 0s 486us/step - loss: 44.8071 - val_loss: 47.2701\n",
      "Epoch 53/100\n",
      "25/25 [==============================] - 0s 503us/step - loss: 44.8584 - val_loss: 46.5971\n",
      "Epoch 54/100\n",
      "25/25 [==============================] - 0s 504us/step - loss: 48.5234 - val_loss: 46.0320\n",
      "Epoch 55/100\n",
      "25/25 [==============================] - 0s 493us/step - loss: 49.3414 - val_loss: 45.6988\n",
      "Epoch 56/100\n",
      "25/25 [==============================] - 0s 541us/step - loss: 46.2225 - val_loss: 44.9309\n",
      "Epoch 57/100\n",
      "25/25 [==============================] - 0s 493us/step - loss: 47.2991 - val_loss: 44.4706\n",
      "Epoch 58/100\n",
      "25/25 [==============================] - 0s 595us/step - loss: 40.8900 - val_loss: 44.4951\n",
      "Epoch 59/100\n",
      "25/25 [==============================] - 0s 582us/step - loss: 41.3887 - val_loss: 44.0216\n",
      "Epoch 60/100\n",
      "25/25 [==============================] - 0s 681us/step - loss: 45.2027 - val_loss: 43.7421\n",
      "Epoch 61/100\n",
      "25/25 [==============================] - 0s 602us/step - loss: 41.9644 - val_loss: 42.7988\n",
      "Epoch 62/100\n",
      "25/25 [==============================] - 0s 507us/step - loss: 47.9776 - val_loss: 42.5232\n",
      "Epoch 63/100\n",
      "25/25 [==============================] - 0s 490us/step - loss: 44.4979 - val_loss: 42.2489\n",
      "Epoch 64/100\n",
      "25/25 [==============================] - 0s 516us/step - loss: 41.6893 - val_loss: 41.8235\n",
      "Epoch 65/100\n",
      "25/25 [==============================] - 0s 518us/step - loss: 43.4631 - val_loss: 41.2285\n",
      "Epoch 66/100\n",
      "25/25 [==============================] - 0s 489us/step - loss: 44.5067 - val_loss: 41.0015\n",
      "Epoch 67/100\n",
      "25/25 [==============================] - 0s 522us/step - loss: 39.5877 - val_loss: 40.5717\n",
      "Epoch 68/100\n",
      "25/25 [==============================] - 0s 483us/step - loss: 43.6825 - val_loss: 40.0273\n",
      "Epoch 69/100\n",
      "25/25 [==============================] - 0s 537us/step - loss: 37.7495 - val_loss: 39.7468\n",
      "Epoch 70/100\n",
      "25/25 [==============================] - 0s 532us/step - loss: 42.5467 - val_loss: 39.6220\n",
      "Epoch 71/100\n",
      "25/25 [==============================] - 0s 487us/step - loss: 40.1678 - val_loss: 39.0878\n",
      "Epoch 72/100\n",
      "25/25 [==============================] - 0s 554us/step - loss: 42.7540 - val_loss: 38.6717\n",
      "Epoch 73/100\n",
      "25/25 [==============================] - 0s 509us/step - loss: 42.4991 - val_loss: 38.1796\n",
      "Epoch 74/100\n",
      "25/25 [==============================] - 0s 506us/step - loss: 37.1660 - val_loss: 38.0527\n",
      "Epoch 75/100\n",
      "25/25 [==============================] - 0s 494us/step - loss: 39.6762 - val_loss: 37.5539\n",
      "Epoch 76/100\n",
      "25/25 [==============================] - 0s 573us/step - loss: 39.2974 - val_loss: 37.3128\n",
      "Epoch 77/100\n",
      "25/25 [==============================] - 0s 679us/step - loss: 42.3434 - val_loss: 37.4240\n",
      "Epoch 78/100\n",
      "25/25 [==============================] - 0s 553us/step - loss: 38.4004 - val_loss: 37.9329\n",
      "Epoch 79/100\n",
      "25/25 [==============================] - 0s 3ms/step - loss: 39.7023 - val_loss: 37.0881\n",
      "Epoch 80/100\n",
      "25/25 [==============================] - 0s 554us/step - loss: 39.9123 - val_loss: 36.2115\n",
      "Epoch 81/100\n",
      "25/25 [==============================] - 0s 562us/step - loss: 38.0070 - val_loss: 36.5788\n",
      "Epoch 82/100\n",
      "25/25 [==============================] - 0s 489us/step - loss: 34.4263 - val_loss: 36.2856\n",
      "Epoch 83/100\n",
      "25/25 [==============================] - 0s 510us/step - loss: 40.5612 - val_loss: 35.6311\n",
      "Epoch 84/100\n",
      "25/25 [==============================] - 0s 484us/step - loss: 42.0624 - val_loss: 36.0611\n",
      "Epoch 85/100\n",
      "25/25 [==============================] - 0s 549us/step - loss: 37.5707 - val_loss: 35.7952\n",
      "Epoch 86/100\n",
      "25/25 [==============================] - 0s 509us/step - loss: 36.3246 - val_loss: 35.3540\n",
      "Epoch 87/100\n",
      "25/25 [==============================] - 0s 490us/step - loss: 37.3051 - val_loss: 35.0739\n",
      "Epoch 88/100\n",
      "25/25 [==============================] - 0s 511us/step - loss: 33.7588 - val_loss: 34.5093\n",
      "Epoch 89/100\n",
      "25/25 [==============================] - 0s 513us/step - loss: 35.4855 - val_loss: 35.0746\n",
      "Epoch 90/100\n",
      "25/25 [==============================] - 0s 647us/step - loss: 38.0054 - val_loss: 35.1567\n",
      "Epoch 91/100\n",
      "25/25 [==============================] - 0s 655us/step - loss: 37.2826 - val_loss: 34.9131\n",
      "Epoch 92/100\n",
      "25/25 [==============================] - 0s 622us/step - loss: 37.9943 - val_loss: 34.4853\n",
      "Epoch 93/100\n",
      "25/25 [==============================] - 0s 559us/step - loss: 38.1126 - val_loss: 34.4738\n",
      "Epoch 94/100\n",
      "25/25 [==============================] - 0s 559us/step - loss: 35.2154 - val_loss: 33.7342\n",
      "Epoch 95/100\n",
      "25/25 [==============================] - 0s 492us/step - loss: 40.6942 - val_loss: 33.9310\n",
      "Epoch 96/100\n",
      "25/25 [==============================] - 0s 527us/step - loss: 32.8000 - val_loss: 34.0222\n",
      "Epoch 97/100\n",
      "25/25 [==============================] - 0s 491us/step - loss: 39.0603 - val_loss: 34.0711\n",
      "Epoch 98/100\n",
      "25/25 [==============================] - 0s 503us/step - loss: 33.7298 - val_loss: 33.9919\n",
      "Epoch 99/100\n",
      "25/25 [==============================] - 0s 546us/step - loss: 36.8737 - val_loss: 33.3705\n",
      "Epoch 100/100\n",
      "25/25 [==============================] - 0s 521us/step - loss: 36.7096 - val_loss: 33.5529\n"
     ]
    }
   ],
   "source": [
    "# Training our model build above\n",
    "\n",
    "mymodel.compile(loss='mean_squared_error', optimizer='adam')\n",
    "\n",
    "hist = mymodel.fit(train_ds, steps_per_epoch=len(X_train)//32, validation_data=test_ds, validation_steps=len(y_test)//32, epochs=100)\n"
   ]
  },
  {
   "cell_type": "markdown",
   "id": "e520feaa",
   "metadata": {},
   "source": [
    "6.While training of your NN is progressing you can plot training and validation error over various epoch using the following code\n"
   ]
  },
  {
   "cell_type": "code",
   "execution_count": 15,
   "id": "372c4d0b",
   "metadata": {},
   "outputs": [
    {
     "data": {
      "image/png": "[encoded data removed]",
      "text/plain": [
       "<Figure size 640x480 with 1 Axes>"
      ]
     },
     "metadata": {},
     "output_type": "display_data"
    }
   ],
   "source": [
    "import matplotlib.pyplot as plt\n",
    "\n",
    "# lets plot the model's history\n",
    "plt.plot(hist.history['loss'])\n",
    "plt.plot(hist.history['val_loss'])\n",
    "plt.title('model mean squared error loss')\n",
    "plt.ylabel('mean squared error loss')\n",
    "plt.xlabel('epoch')\n",
    "plt.legend(['training set', 'validation set'], loc='upper right')\n",
    "plt.show()\n"
   ]
  },
  {
   "cell_type": "markdown",
   "id": "0a3e9afe",
   "metadata": {},
   "source": [
    "7.Say you want to have validation loss around 10.00 or less consistently (Note that same network, same data set, and same hyper parameter may give you different validation error due to some randomness if you run multiple times. So you run your code couple of times and check if you are always getting validation loss around 10.00 or less). You will see your above model is not achieving the desired validation loss. You need to fix this issue. As you know there are a number of options. Say you can try following options: 1) the number of data points say up to N=10,000, 2) increasing the complexity of NN by increasing the number of hidden layers say up to 4 (due to the complexity consideration), 3) increase  training by increasing the number of epochs (keep up to 100  due to limited training time). Now you try different options as mentioned above. Then make a comment which option worked to achieve the desired validation loss.  \n"
   ]
  },
  {
   "cell_type": "markdown",
   "id": "c7b4a0e0",
   "metadata": {},
   "source": [
    "effect of active function:\n",
    "\n",
    "    relu vs. sigmoid --- relu is faster\n",
    "\n",
    "effect of optimization:\n",
    "\n",
    "    adam vs. sgd ---- sgd's erro is much larger\n",
    "\n",
    "effect of layers:\n",
    "\n",
    "    2 hidden layers vs. 3 hidden layers ---- 3 layers' erro is smaller\n",
    "\n",
    "effect of training epochs:\n",
    "\n",
    "    epochs = 100 vs. epochs = 200 ---- more training did not help to reduce the loss\n",
    "\n",
    "effect of batch_size:\n",
    "\n",
    "    no useful result\n"
   ]
  }
 ],
 "metadata": {
  "kernelspec": {
   "display_name": "environment3",
   "language": "python",
   "name": "python3"
  },
  "language_info": {
   "codemirror_mode": {
    "name": "ipython",
    "version": 3
   },
   "file_extension": ".py",
   "mimetype": "text/x-python",
   "name": "python",
   "nbconvert_exporter": "python",
   "pygments_lexer": "ipython3",
   "version": "3.8.20"
  }
 },
 "nbformat": 4,
 "nbformat_minor": 5
}
