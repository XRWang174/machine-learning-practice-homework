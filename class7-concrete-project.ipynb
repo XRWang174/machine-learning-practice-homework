{
 "cells": [
  {
   "cell_type": "markdown",
   "id": "610c4be7",
   "metadata": {},
   "source": [
    "\n",
    "  Concrete is the most important material in civil engineering. The concrete compressive strength is a highly nonlinear function of age and ingredients. In this example, you are going to build, train, and check validation error of fully connected/dense neural networks that can predict the compressive strength of concrete. \n",
    "\n",
    "  The data set can be downloaded from https://www.kaggle.com/datasets/ryanholbrook/dl-course-data?select=concrete.csv. I can provide you data set as well. \n",
    "  \n",
    "    1.How many input features you have for this data and write their names\n",
    "    2.How many labels you have for this data? Write their  names\n",
    "    3.Plot the data (input feature vs output) \n",
    "\n",
    "  Now you prepare data for training and testing neural network using step 1 to 3.\n",
    "  Read read concrete.csv file (note that you need to have concrete.csv file in correct folder) \n"
   ]
  },
  {
   "cell_type": "code",
   "execution_count": 2,
   "id": "c6239335",
   "metadata": {},
   "outputs": [
    {
     "data": {
      "text/html": [
       "<div>\n",
       "<style scoped>\n",
       "    .dataframe tbody tr th:only-of-type {\n",
       "        vertical-align: middle;\n",
       "    }\n",
       "\n",
       "    .dataframe tbody tr th {\n",
       "        vertical-align: top;\n",
       "    }\n",
       "\n",
       "    .dataframe thead th {\n",
       "        text-align: right;\n",
       "    }\n",
       "</style>\n",
       "<table border=\"1\" class=\"dataframe\">\n",
       "  <thead>\n",
       "    <tr style=\"text-align: right;\">\n",
       "      <th></th>\n",
       "      <th>Cement</th>\n",
       "      <th>BlastFurnaceSlag</th>\n",
       "      <th>FlyAsh</th>\n",
       "      <th>Water</th>\n",
       "      <th>Superplasticizer</th>\n",
       "      <th>CoarseAggregate</th>\n",
       "      <th>FineAggregate</th>\n",
       "      <th>Age</th>\n",
       "      <th>CompressiveStrength</th>\n",
       "    </tr>\n",
       "  </thead>\n",
       "  <tbody>\n",
       "    <tr>\n",
       "      <th>0</th>\n",
       "      <td>540.0</td>\n",
       "      <td>0.0</td>\n",
       "      <td>0.0</td>\n",
       "      <td>162.0</td>\n",
       "      <td>2.5</td>\n",
       "      <td>1040.0</td>\n",
       "      <td>676.0</td>\n",
       "      <td>28</td>\n",
       "      <td>79.99</td>\n",
       "    </tr>\n",
       "    <tr>\n",
       "      <th>1</th>\n",
       "      <td>540.0</td>\n",
       "      <td>0.0</td>\n",
       "      <td>0.0</td>\n",
       "      <td>162.0</td>\n",
       "      <td>2.5</td>\n",
       "      <td>1055.0</td>\n",
       "      <td>676.0</td>\n",
       "      <td>28</td>\n",
       "      <td>61.89</td>\n",
       "    </tr>\n",
       "    <tr>\n",
       "      <th>2</th>\n",
       "      <td>332.5</td>\n",
       "      <td>142.5</td>\n",
       "      <td>0.0</td>\n",
       "      <td>228.0</td>\n",
       "      <td>0.0</td>\n",
       "      <td>932.0</td>\n",
       "      <td>594.0</td>\n",
       "      <td>270</td>\n",
       "      <td>40.27</td>\n",
       "    </tr>\n",
       "    <tr>\n",
       "      <th>3</th>\n",
       "      <td>332.5</td>\n",
       "      <td>142.5</td>\n",
       "      <td>0.0</td>\n",
       "      <td>228.0</td>\n",
       "      <td>0.0</td>\n",
       "      <td>932.0</td>\n",
       "      <td>594.0</td>\n",
       "      <td>365</td>\n",
       "      <td>41.05</td>\n",
       "    </tr>\n",
       "    <tr>\n",
       "      <th>4</th>\n",
       "      <td>198.6</td>\n",
       "      <td>132.4</td>\n",
       "      <td>0.0</td>\n",
       "      <td>192.0</td>\n",
       "      <td>0.0</td>\n",
       "      <td>978.4</td>\n",
       "      <td>825.5</td>\n",
       "      <td>360</td>\n",
       "      <td>44.30</td>\n",
       "    </tr>\n",
       "  </tbody>\n",
       "</table>\n",
       "</div>"
      ],
      "text/plain": [
       "   Cement  BlastFurnaceSlag  FlyAsh  Water  Superplasticizer  CoarseAggregate  \\\n",
       "0   540.0               0.0     0.0  162.0               2.5           1040.0   \n",
       "1   540.0               0.0     0.0  162.0               2.5           1055.0   \n",
       "2   332.5             142.5     0.0  228.0               0.0            932.0   \n",
       "3   332.5             142.5     0.0  228.0               0.0            932.0   \n",
       "4   198.6             132.4     0.0  192.0               0.0            978.4   \n",
       "\n",
       "   FineAggregate  Age  CompressiveStrength  \n",
       "0          676.0   28                79.99  \n",
       "1          676.0   28                61.89  \n",
       "2          594.0  270                40.27  \n",
       "3          594.0  365                41.05  \n",
       "4          825.5  360                44.30  "
      ]
     },
     "execution_count": 2,
     "metadata": {},
     "output_type": "execute_result"
    }
   ],
   "source": [
    "import pandas as pd\n",
    "df = pd.read_csv(\"concrete.csv\")\n",
    "df.head()"
   ]
  },
  {
   "cell_type": "markdown",
   "id": "7a551b8d",
   "metadata": {},
   "source": [
    "1.Seperating input and output\n"
   ]
  },
  {
   "cell_type": "code",
   "execution_count": 3,
   "id": "ff166392",
   "metadata": {},
   "outputs": [],
   "source": [
    "y_data= df['CompressiveStrength'] # extract the outputs\n",
    "X_data = df.drop('CompressiveStrength', axis=1) # delete the output inputs\n"
   ]
  },
  {
   "cell_type": "markdown",
   "id": "0c5b8f74",
   "metadata": {},
   "source": [
    "2.Data splitting: You need to  split data into training and validation set. You are going to use train_test_split  from sklearn. Yon need to import as follows, \n"
   ]
  },
  {
   "cell_type": "code",
   "execution_count": 4,
   "id": "76629126",
   "metadata": {},
   "outputs": [],
   "source": [
    "from sklearn.model_selection import train_test_split\n",
    "X_train, X_test, y_train, y_test = train_test_split(X_data, y_data, test_size=0.2, random_state=42)\n"
   ]
  },
  {
   "cell_type": "markdown",
   "id": "d6482b7c",
   "metadata": {},
   "source": [
    "3.Now you use the following code to make training set with input and output together\n",
    "\n"
   ]
  },
  {
   "cell_type": "code",
   "execution_count": 9,
   "id": "8ddcccc5",
   "metadata": {},
   "outputs": [],
   "source": [
    "import tensorflow as tf\n",
    "#define batch size\n",
    "BATCH_SIZE=32\n",
    "\n",
    "train_ds = tf.data.Dataset.from_tensor_slices((X_train, y_train)) # create a dataset from X_train and y_train\n",
    "train_ds = train_ds.repeat()\n",
    "train_ds = train_ds.shuffle(buffer_size=len(X_train)) # shuffle the dataset\n",
    "train_ds = train_ds.batch(BATCH_SIZE) # batch the dataset\n",
    "train_ds = train_ds.prefetch(tf.data.experimental.AUTOTUNE) # prefetch the dataset to improve performance\n",
    "\n",
    "# create a dataset from the testing data and make a data pipeline\n",
    "test_ds = tf.data.Dataset.from_tensor_slices((X_test, y_test)) # create a dataset from X_test and y_test\n",
    "test_ds = test_ds.repeat() # repeat the dataset\n",
    "test_ds = test_ds.batch(BATCH_SIZE) # batch the dataset\n",
    "test_ds = test_ds.prefetch(tf.data.experimental.AUTOTUNE) # prefetch the dataset to improve performance\n"
   ]
  },
  {
   "cell_type": "markdown",
   "id": "92adb3ce",
   "metadata": {},
   "source": [
    "4.Now you plan to use dense neural network to predict the strength. To do this, you implement a fully connected neural networks (start with two hidden layers, (hidden layer one has 32 units/neurons and hidden layer two has 16 units/neurons) and one output layer.  Your code should print your model summary. A sample code is given below.\n"
   ]
  },
  {
   "cell_type": "code",
   "execution_count": 26,
   "id": "68dda2dd",
   "metadata": {},
   "outputs": [
    {
     "name": "stdout",
     "output_type": "stream",
     "text": [
      "Model: \"sequential_4\"\n",
      "_________________________________________________________________\n",
      " Layer (type)                Output Shape              Param #   \n",
      "=================================================================\n",
      " dense_14 (Dense)            (None, 512)               4608      \n",
      "                                                                 \n",
      " dense_15 (Dense)            (None, 256)               131328    \n",
      "                                                                 \n",
      " dense_16 (Dense)            (None, 128)               32896     \n",
      "                                                                 \n",
      " dense_17 (Dense)            (None, 64)                8256      \n",
      "                                                                 \n",
      " dense_18 (Dense)            (None, 32)                2080      \n",
      "                                                                 \n",
      " dense_19 (Dense)            (None, 1)                 33        \n",
      "                                                                 \n",
      "=================================================================\n",
      "Total params: 179201 (700.00 KB)\n",
      "Trainable params: 179201 (700.00 KB)\n",
      "Non-trainable params: 0 (0.00 Byte)\n",
      "_________________________________________________________________\n",
      "None\n"
     ]
    }
   ],
   "source": [
    "from keras.models import Sequential\n",
    "from keras.layers import Dense\n",
    "\n",
    "mymodel = Sequential()\n",
    "\n",
    "# input and Hidden layer-1\n",
    "mymodel.add(Dense(units=512, input_dim=8, kernel_initializer='normal',activation='relu'))\n",
    "# Hidden layer-2\n",
    "mymodel.add(Dense(units=256, kernel_initializer='normal', activation='relu'))\n",
    "# Hidden layer-3\n",
    "mymodel.add(Dense(units=128, kernel_initializer='normal', activation='relu'))\n",
    "# Hidden layer-4\n",
    "mymodel.add(Dense(units=64, kernel_initializer='normal', activation='relu'))\n",
    "# Hidden layer-5\n",
    "mymodel.add(Dense(units=32, kernel_initializer='normal', activation='relu'))\n",
    "# output layer\n",
    "mymodel.add(Dense(units=1, kernel_initializer='normal'))\n",
    "print(mymodel.summary())\n"
   ]
  },
  {
   "cell_type": "markdown",
   "id": "94e282b9",
   "metadata": {},
   "source": [
    "5.Once you created your NN, compile and train your implemented dense neural network using following command\n"
   ]
  },
  {
   "cell_type": "code",
   "execution_count": 27,
   "id": "b46f1976",
   "metadata": {},
   "outputs": [
    {
     "name": "stdout",
     "output_type": "stream",
     "text": [
      "Epoch 1/100\n",
      "25/25 [==============================] - 1s 5ms/step - loss: 524.2197 - val_loss: 281.7190\n",
      "Epoch 2/100\n",
      "25/25 [==============================] - 0s 3ms/step - loss: 239.4609 - val_loss: 194.8682\n",
      "Epoch 3/100\n",
      "25/25 [==============================] - 0s 3ms/step - loss: 174.3444 - val_loss: 155.7840\n",
      "Epoch 4/100\n",
      "25/25 [==============================] - 0s 2ms/step - loss: 149.5029 - val_loss: 133.9583\n",
      "Epoch 5/100\n",
      "25/25 [==============================] - 0s 2ms/step - loss: 127.3110 - val_loss: 116.3892\n",
      "Epoch 6/100\n",
      "25/25 [==============================] - 0s 2ms/step - loss: 127.5379 - val_loss: 98.9407\n",
      "Epoch 7/100\n",
      "25/25 [==============================] - 0s 4ms/step - loss: 114.8860 - val_loss: 88.9872\n",
      "Epoch 8/100\n",
      "25/25 [==============================] - 0s 2ms/step - loss: 108.2108 - val_loss: 86.2857\n",
      "Epoch 9/100\n",
      "25/25 [==============================] - 0s 5ms/step - loss: 95.6515 - val_loss: 81.4270\n",
      "Epoch 10/100\n",
      "25/25 [==============================] - 0s 5ms/step - loss: 90.7460 - val_loss: 67.8712\n",
      "Epoch 11/100\n",
      "25/25 [==============================] - 0s 4ms/step - loss: 76.3055 - val_loss: 62.1654\n",
      "Epoch 12/100\n",
      "25/25 [==============================] - 0s 5ms/step - loss: 70.3177 - val_loss: 55.4733\n",
      "Epoch 13/100\n",
      "25/25 [==============================] - 0s 3ms/step - loss: 62.9894 - val_loss: 53.9829\n",
      "Epoch 14/100\n",
      "25/25 [==============================] - 0s 3ms/step - loss: 60.3784 - val_loss: 51.7470\n",
      "Epoch 15/100\n",
      "25/25 [==============================] - 0s 4ms/step - loss: 54.1974 - val_loss: 48.6316\n",
      "Epoch 16/100\n",
      "25/25 [==============================] - 0s 3ms/step - loss: 64.9749 - val_loss: 63.2688\n",
      "Epoch 17/100\n",
      "25/25 [==============================] - 0s 3ms/step - loss: 56.4352 - val_loss: 46.5821\n",
      "Epoch 18/100\n",
      "25/25 [==============================] - 0s 4ms/step - loss: 53.4073 - val_loss: 66.3702\n",
      "Epoch 19/100\n",
      "25/25 [==============================] - 0s 3ms/step - loss: 53.3120 - val_loss: 43.5650\n",
      "Epoch 20/100\n",
      "25/25 [==============================] - 0s 3ms/step - loss: 52.7639 - val_loss: 45.3280\n",
      "Epoch 21/100\n",
      "25/25 [==============================] - 0s 3ms/step - loss: 48.9632 - val_loss: 58.3910\n",
      "Epoch 22/100\n",
      "25/25 [==============================] - 0s 6ms/step - loss: 43.5516 - val_loss: 45.9969\n",
      "Epoch 23/100\n",
      "25/25 [==============================] - 0s 3ms/step - loss: 46.3988 - val_loss: 40.4349\n",
      "Epoch 24/100\n",
      "25/25 [==============================] - 0s 3ms/step - loss: 41.3879 - val_loss: 43.1644\n",
      "Epoch 25/100\n",
      "25/25 [==============================] - 0s 4ms/step - loss: 44.0500 - val_loss: 42.8358\n",
      "Epoch 26/100\n",
      "25/25 [==============================] - 0s 3ms/step - loss: 51.3314 - val_loss: 39.3726\n",
      "Epoch 27/100\n",
      "25/25 [==============================] - 0s 3ms/step - loss: 52.8890 - val_loss: 49.7563\n",
      "Epoch 28/100\n",
      "25/25 [==============================] - 0s 3ms/step - loss: 41.7619 - val_loss: 43.9508\n",
      "Epoch 29/100\n",
      "25/25 [==============================] - 0s 3ms/step - loss: 50.7674 - val_loss: 52.0732\n",
      "Epoch 30/100\n",
      "25/25 [==============================] - 0s 3ms/step - loss: 41.3970 - val_loss: 56.9495\n",
      "Epoch 31/100\n",
      "25/25 [==============================] - 0s 4ms/step - loss: 46.4496 - val_loss: 47.7851\n",
      "Epoch 32/100\n",
      "25/25 [==============================] - 0s 3ms/step - loss: 41.8496 - val_loss: 40.8792\n",
      "Epoch 33/100\n",
      "25/25 [==============================] - 0s 3ms/step - loss: 43.5178 - val_loss: 42.8001\n",
      "Epoch 34/100\n",
      "25/25 [==============================] - 0s 2ms/step - loss: 47.8991 - val_loss: 41.8014\n",
      "Epoch 35/100\n",
      "25/25 [==============================] - 0s 3ms/step - loss: 41.4877 - val_loss: 40.4530\n",
      "Epoch 36/100\n",
      "25/25 [==============================] - 0s 2ms/step - loss: 37.4800 - val_loss: 38.5811\n",
      "Epoch 37/100\n",
      "25/25 [==============================] - 0s 2ms/step - loss: 43.1235 - val_loss: 69.4177\n",
      "Epoch 38/100\n",
      "25/25 [==============================] - 0s 3ms/step - loss: 60.0579 - val_loss: 51.6962\n",
      "Epoch 39/100\n",
      "25/25 [==============================] - 0s 4ms/step - loss: 40.6747 - val_loss: 50.4065\n",
      "Epoch 40/100\n",
      "25/25 [==============================] - 0s 3ms/step - loss: 49.1469 - val_loss: 53.3259\n",
      "Epoch 41/100\n",
      "25/25 [==============================] - 0s 2ms/step - loss: 53.1491 - val_loss: 42.9175\n",
      "Epoch 42/100\n",
      "25/25 [==============================] - 0s 2ms/step - loss: 41.8722 - val_loss: 38.4717\n",
      "Epoch 43/100\n",
      "25/25 [==============================] - 0s 3ms/step - loss: 49.8574 - val_loss: 41.9130\n",
      "Epoch 44/100\n",
      "25/25 [==============================] - 0s 2ms/step - loss: 46.0903 - val_loss: 38.9602\n",
      "Epoch 45/100\n",
      "25/25 [==============================] - 0s 2ms/step - loss: 46.7807 - val_loss: 39.2013\n",
      "Epoch 46/100\n",
      "25/25 [==============================] - 0s 3ms/step - loss: 40.7989 - val_loss: 41.5140\n",
      "Epoch 47/100\n",
      "25/25 [==============================] - 0s 4ms/step - loss: 46.9715 - val_loss: 36.8606\n",
      "Epoch 48/100\n",
      "25/25 [==============================] - 0s 2ms/step - loss: 51.6626 - val_loss: 56.0358\n",
      "Epoch 49/100\n",
      "25/25 [==============================] - 0s 2ms/step - loss: 46.5920 - val_loss: 39.1266\n",
      "Epoch 50/100\n",
      "25/25 [==============================] - 0s 3ms/step - loss: 52.2979 - val_loss: 39.2628\n",
      "Epoch 51/100\n",
      "25/25 [==============================] - 0s 3ms/step - loss: 39.6594 - val_loss: 41.7159\n",
      "Epoch 52/100\n",
      "25/25 [==============================] - 0s 2ms/step - loss: 43.2970 - val_loss: 45.8986\n",
      "Epoch 53/100\n",
      "25/25 [==============================] - 0s 2ms/step - loss: 35.3776 - val_loss: 59.1222\n",
      "Epoch 54/100\n",
      "25/25 [==============================] - 0s 3ms/step - loss: 55.7641 - val_loss: 36.6221\n",
      "Epoch 55/100\n",
      "25/25 [==============================] - 0s 4ms/step - loss: 36.4440 - val_loss: 45.7850\n",
      "Epoch 56/100\n",
      "25/25 [==============================] - 0s 2ms/step - loss: 39.2133 - val_loss: 35.4931\n",
      "Epoch 57/100\n",
      "25/25 [==============================] - 0s 2ms/step - loss: 38.2899 - val_loss: 36.6890\n",
      "Epoch 58/100\n",
      "25/25 [==============================] - 0s 3ms/step - loss: 41.3044 - val_loss: 37.5912\n",
      "Epoch 59/100\n",
      "25/25 [==============================] - 0s 3ms/step - loss: 31.7713 - val_loss: 37.8924\n",
      "Epoch 60/100\n",
      "25/25 [==============================] - 0s 4ms/step - loss: 39.2047 - val_loss: 35.2525\n",
      "Epoch 61/100\n",
      "25/25 [==============================] - 0s 3ms/step - loss: 38.2527 - val_loss: 41.8507\n",
      "Epoch 62/100\n",
      "25/25 [==============================] - 0s 3ms/step - loss: 35.6357 - val_loss: 41.3640\n",
      "Epoch 63/100\n",
      "25/25 [==============================] - 0s 2ms/step - loss: 32.9132 - val_loss: 36.3009\n",
      "Epoch 64/100\n",
      "25/25 [==============================] - 0s 2ms/step - loss: 35.7115 - val_loss: 38.5923\n",
      "Epoch 65/100\n",
      "25/25 [==============================] - 0s 3ms/step - loss: 35.7803 - val_loss: 34.9514\n",
      "Epoch 66/100\n",
      "25/25 [==============================] - 0s 3ms/step - loss: 37.9202 - val_loss: 36.3478\n",
      "Epoch 67/100\n",
      "25/25 [==============================] - 0s 2ms/step - loss: 35.9001 - val_loss: 38.1610\n",
      "Epoch 68/100\n",
      "25/25 [==============================] - 0s 2ms/step - loss: 32.1561 - val_loss: 36.5089\n",
      "Epoch 69/100\n",
      "25/25 [==============================] - 0s 3ms/step - loss: 37.1699 - val_loss: 37.0893\n",
      "Epoch 70/100\n",
      "25/25 [==============================] - 0s 3ms/step - loss: 34.4585 - val_loss: 75.5886\n",
      "Epoch 71/100\n",
      "25/25 [==============================] - 0s 2ms/step - loss: 36.6853 - val_loss: 37.1780\n",
      "Epoch 72/100\n",
      "25/25 [==============================] - 0s 2ms/step - loss: 36.4172 - val_loss: 41.1971\n",
      "Epoch 73/100\n",
      "25/25 [==============================] - 0s 3ms/step - loss: 39.9526 - val_loss: 35.5874\n",
      "Epoch 74/100\n",
      "25/25 [==============================] - 0s 2ms/step - loss: 30.5350 - val_loss: 59.5755\n",
      "Epoch 75/100\n",
      "25/25 [==============================] - 0s 2ms/step - loss: 43.2393 - val_loss: 37.4897\n",
      "Epoch 76/100\n",
      "25/25 [==============================] - 0s 2ms/step - loss: 34.0014 - val_loss: 42.4057\n",
      "Epoch 77/100\n",
      "25/25 [==============================] - 0s 3ms/step - loss: 37.9810 - val_loss: 50.1978\n",
      "Epoch 78/100\n",
      "25/25 [==============================] - 0s 4ms/step - loss: 33.3661 - val_loss: 33.0812\n",
      "Epoch 79/100\n",
      "25/25 [==============================] - 0s 2ms/step - loss: 35.6885 - val_loss: 37.5852\n",
      "Epoch 80/100\n",
      "25/25 [==============================] - 0s 2ms/step - loss: 35.3176 - val_loss: 37.8797\n",
      "Epoch 81/100\n",
      "25/25 [==============================] - 0s 3ms/step - loss: 40.9522 - val_loss: 61.6993\n",
      "Epoch 82/100\n",
      "25/25 [==============================] - 0s 3ms/step - loss: 40.8125 - val_loss: 36.3620\n",
      "Epoch 83/100\n",
      "25/25 [==============================] - 0s 2ms/step - loss: 31.0209 - val_loss: 34.5118\n",
      "Epoch 84/100\n",
      "25/25 [==============================] - 0s 2ms/step - loss: 31.7548 - val_loss: 39.2070\n",
      "Epoch 85/100\n",
      "25/25 [==============================] - 0s 3ms/step - loss: 29.4594 - val_loss: 36.6111\n",
      "Epoch 86/100\n",
      "25/25 [==============================] - 0s 4ms/step - loss: 37.9523 - val_loss: 39.6017\n",
      "Epoch 87/100\n",
      "25/25 [==============================] - 0s 2ms/step - loss: 30.4556 - val_loss: 37.2013\n",
      "Epoch 88/100\n",
      "25/25 [==============================] - 0s 3ms/step - loss: 28.8643 - val_loss: 37.9041\n",
      "Epoch 89/100\n",
      "25/25 [==============================] - 0s 3ms/step - loss: 37.5200 - val_loss: 37.0979\n",
      "Epoch 90/100\n",
      "25/25 [==============================] - 0s 2ms/step - loss: 37.0765 - val_loss: 33.7389\n",
      "Epoch 91/100\n",
      "25/25 [==============================] - 0s 2ms/step - loss: 30.1083 - val_loss: 33.4136\n",
      "Epoch 92/100\n",
      "25/25 [==============================] - 0s 2ms/step - loss: 30.5208 - val_loss: 36.2077\n",
      "Epoch 93/100\n",
      "25/25 [==============================] - 0s 8ms/step - loss: 36.3010 - val_loss: 38.1797\n",
      "Epoch 94/100\n",
      "25/25 [==============================] - 0s 3ms/step - loss: 31.4265 - val_loss: 34.3078\n",
      "Epoch 95/100\n",
      "25/25 [==============================] - 0s 3ms/step - loss: 29.3355 - val_loss: 36.4156\n",
      "Epoch 96/100\n",
      "25/25 [==============================] - 0s 2ms/step - loss: 38.0803 - val_loss: 42.7753\n",
      "Epoch 97/100\n",
      "25/25 [==============================] - 0s 3ms/step - loss: 31.3200 - val_loss: 38.5762\n",
      "Epoch 98/100\n",
      "25/25 [==============================] - 0s 3ms/step - loss: 32.6091 - val_loss: 42.4287\n",
      "Epoch 99/100\n",
      "25/25 [==============================] - 0s 3ms/step - loss: 37.8898 - val_loss: 36.0516\n",
      "Epoch 100/100\n",
      "25/25 [==============================] - 0s 3ms/step - loss: 29.1781 - val_loss: 35.5647\n"
     ]
    }
   ],
   "source": [
    "# Training our model build above\n",
    "\n",
    "mymodel.compile(loss='mean_squared_error', optimizer='adam')\n",
    "\n",
    "hist = mymodel.fit(train_ds, steps_per_epoch=len(X_train)//32, validation_data=test_ds, validation_steps=len(y_test)//32, epochs=100)\n",
    "\n"
   ]
  },
  {
   "cell_type": "markdown",
   "id": "58cee0d1",
   "metadata": {},
   "source": [
    "6.While training of your NN is progressing you can plot training and validation error over various epoch using the following code\n"
   ]
  },
  {
   "cell_type": "code",
   "execution_count": 28,
   "id": "7942390d",
   "metadata": {},
   "outputs": [
    {
     "data": {
      "image/png": "[encoded data removed]",
      "text/plain": [
       "<Figure size 640x480 with 1 Axes>"
      ]
     },
     "metadata": {},
     "output_type": "display_data"
    }
   ],
   "source": [
    "import matplotlib.pyplot as plt\n",
    "\n",
    "# lets plot the model's history\n",
    "plt.plot(hist.history['loss'])\n",
    "plt.plot(hist.history['val_loss'])\n",
    "plt.title('model mean squared error loss')\n",
    "plt.ylabel('mean squared error loss')\n",
    "plt.xlabel('epoch')\n",
    "plt.legend(['training set', 'validation set'], loc='upper right')\n",
    "plt.show()\n"
   ]
  },
  {
   "cell_type": "markdown",
   "id": "2c3e6f9b",
   "metadata": {},
   "source": [
    "7.Check the validation loss while varying some hyper parameters e.g., number of layers, the number of data points (training and testing), the number of epochs you train and different activation function.\n"
   ]
  },
  {
   "cell_type": "markdown",
   "id": "c78c11a2",
   "metadata": {},
   "source": [
    "8.Say you want to have validation loss around 40.00 or less consistently (Note that same network, same data set, and same hyper parameter may give you different validation error due to some randomness if you run multiple times. So, you run your code couple of times and check if you are always getting validation loss around 40.00 or less). You will see above given model is not achieving the desired validation loss. You need to fix this issue. Make a comment which option worked to achieve the desired validation loss.  \n"
   ]
  },
  {
   "cell_type": "markdown",
   "id": "acbc867f",
   "metadata": {},
   "source": [
    "9.Now you select the model based on your requirement of validation error. Use your selected trained model to predict output y_pred corresponding all the inputs i.e.,  X_test. You can use following command to do so.  Plot the difference between model predicted output vs true output y_test.   Make a comment on the magnitude of the error. \n"
   ]
  },
  {
   "cell_type": "code",
   "execution_count": 29,
   "id": "c237f64d",
   "metadata": {},
   "outputs": [
    {
     "name": "stdout",
     "output_type": "stream",
     "text": [
      "7/7 [==============================] - 0s 1ms/step\n"
     ]
    },
    {
     "data": {
      "image/png": "[encoded data removed]",
      "text/plain": [
       "<Figure size 640x480 with 1 Axes>"
      ]
     },
     "metadata": {},
     "output_type": "display_data"
    }
   ],
   "source": [
    "# Predicting output using trained model\n",
    "y_pred=mymodel.predict(X_test)\n",
    "# Plotting the difference between model predicted output vs true output y_test\n",
    "plt.scatter(y_test, y_pred)\n",
    "plt.xlabel('True Output')\n",
    "plt.ylabel('Predicted Output')\n",
    "plt.title('True Output vs Predicted Output')\n",
    "plt.show()"
   ]
  }
 ],
 "metadata": {
  "kernelspec": {
   "display_name": "environment3",
   "language": "python",
   "name": "python3"
  },
  "language_info": {
   "codemirror_mode": {
    "name": "ipython",
    "version": 3
   },
   "file_extension": ".py",
   "mimetype": "text/x-python",
   "name": "python",
   "nbconvert_exporter": "python",
   "pygments_lexer": "ipython3",
   "version": "3.8.20"
  }
 },
 "nbformat": 4,
 "nbformat_minor": 5
}
