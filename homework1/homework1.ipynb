{
 "cells": [
  {
   "cell_type": "markdown",
   "id": "abadd33a",
   "metadata": {},
   "source": [
    "p1\n",
    "\n",
    "d= - (nabla h)/l2(nabla h)"
   ]
  },
  {
   "cell_type": "markdown",
   "id": "7a3962c4",
   "metadata": {},
   "source": [
    "p2\n",
    "\n",
    "(a)Hessian = [2  0 \n",
    "\n",
    "              0  0]\n",
    "(b)yes\n",
    "\n",
    "    prove:\n",
    "\n",
    "        assume that H=[2 0;0 0]\n",
    "\n",
    "        let z = [z1;z2]\n",
    "\n",
    "        then (z^T)Hz = 2z**2 >= 0\n",
    "        \n",
    "        so that matrix H is positive semi-definite,thus the function is convex\n"
   ]
  },
  {
   "cell_type": "markdown",
   "id": "f28ca806",
   "metadata": {},
   "source": [
    "p3"
   ]
  },
  {
   "cell_type": "code",
   "execution_count": 6,
   "id": "056fb4e4",
   "metadata": {},
   "outputs": [
    {
     "data": {
      "image/png": "[encoded data removed]",
      "text/plain": [
       "<Figure size 640x480 with 1 Axes>"
      ]
     },
     "metadata": {},
     "output_type": "display_data"
    },
    {
     "name": "stdout",
     "output_type": "stream",
     "text": [
      "Coefficients: 0.0023\n",
      "Intercept: 0.1849\n",
      "Calculated g: 8.8623 m/s^2\n",
      "Difference from typical g: 0.9443 m/s^2\n"
     ]
    }
   ],
   "source": [
    "import numpy as np\n",
    "import pandas as pd\n",
    "import matplotlib.pyplot as plt\n",
    "from sklearn.linear_model import LinearRegression\n",
    "from sklearn.metrics import mean_squared_error\n",
    "\n",
    "\n",
    "#(a)\n",
    "\n",
    "d = [100,100,100,127,127,127,152,152,152,178,178,178]\n",
    "t_squre = [0.36,0.38,0.46,0.46,0.49,0.51,0.50,0.53,0.56,0.55,0.58,0.61]\n",
    "\n",
    "plt.scatter(d, t_squre, color='blue', label='Data Points')\n",
    "plt.xlabel('distance/cm')\n",
    "plt.ylabel('time^2/s^2')\n",
    "plt.title('Distance vs Time^2')\n",
    "plt.legend()\n",
    "plt.show()\n",
    "\n",
    "#(b)\n",
    "my_linear_model = LinearRegression()\n",
    "my_linear_model.fit(np.array(d).reshape(-1, 1), np.array(t_squre).reshape(-1, 1)) # training model\n",
    "\n",
    "print(f'Coefficients: {my_linear_model.coef_[0][0]:.4f}') # priting trained/optimal coeffs of polynomial terms\n",
    "print(f'Intercept: {my_linear_model.intercept_[0]:.4f}') # trained/optimal worker bias\n",
    "\n",
    "#(c)\n",
    "g_cal = 2/(my_linear_model.coef_[0][0]*100) # calculating g from coeffs\n",
    "g_typical= 9.80665 # typical value of g\n",
    "delta_g = abs(g_cal - g_typical) # calculating delta_g\n",
    "print(f'Calculated g: {g_cal:.4f} m/s^2')\n",
    "print(f'Difference from typical g: {delta_g:.4f} m/s^2')"
   ]
  },
  {
   "cell_type": "markdown",
   "id": "79063cb2",
   "metadata": {},
   "source": [
    "p4"
   ]
  },
  {
   "cell_type": "code",
   "execution_count": 9,
   "id": "6ecd6ccf",
   "metadata": {},
   "outputs": [
    {
     "name": "stdout",
     "output_type": "stream",
     "text": [
      "MSE for D=2: 7.4140\n",
      "MSE for D=3: 320.9830\n"
     ]
    }
   ],
   "source": [
    "#(1)\n",
    "import numpy as np\n",
    "import pandas as pd\n",
    "from sklearn.metrics import mean_squared_error\n",
    "from sklearn.linear_model import LinearRegression\n",
    "from sklearn.preprocessing import PolynomialFeatures\n",
    "\n",
    "def model_D(x,D):\n",
    "    poly = PolynomialFeatures(degree=D, include_bias=True)\n",
    "    X_poly = poly.fit_transform(x)\n",
    "    if D == 2:\n",
    "        w = np.array([[5,1.5,0.03]])\n",
    "    elif D == 3:\n",
    "        w = np.array([[2,0.5,0.01,-0.001]])\n",
    "    return X_poly @ w.T\n",
    "\n",
    "x_validation = np.array([[4], [8], [9],[14]])\n",
    "y_validation = np.array([[10], [20], [25], [35]])\n",
    "\n",
    "y_pred_2 = model_D(x_validation, 2)\n",
    "y_pred_3 = model_D(x_validation, 3)\n",
    "mse_2 = mean_squared_error(y_validation, y_pred_2)\n",
    "mse_3 = mean_squared_error(y_validation, y_pred_3)\n",
    "print(f'MSE for D=2: {mse_2:.4f}')\n",
    "print(f'MSE for D=3: {mse_3:.4f}')"
   ]
  },
  {
   "cell_type": "markdown",
   "id": "dc98e1a7",
   "metadata": {},
   "source": [
    "(2)MSE for D=2 is much smaller than MSE for D=3,thus D=2 is more approperiate"
   ]
  },
  {
   "cell_type": "markdown",
   "id": "54e77809",
   "metadata": {},
   "source": [
    "p5"
   ]
  },
  {
   "cell_type": "markdown",
   "id": "054b93d5",
   "metadata": {},
   "source": [
    "example code as below"
   ]
  },
  {
   "cell_type": "code",
   "execution_count": 29,
   "id": "3b114217",
   "metadata": {},
   "outputs": [
    {
     "name": "stdout",
     "output_type": "stream",
     "text": [
      "Convergence after 1090 iterations \n",
      "the value of w at convergence is approximately -1.4018\n"
     ]
    }
   ],
   "source": [
    "import numpy as np\n",
    "import matplotlib.pyplot as plt\n",
    "\n",
    "#function and its derivative\n",
    "f = lambda v: v**4-5*v**2-3*v\n",
    "f_derivative = lambda w: 4*w**3 - 10*w - 3\n",
    "\n",
    "max_no_iterations = 10000\n",
    "alpha = 0.2\n",
    "epsilon = 0.001\n",
    "w = np.zeros(max_no_iterations)\n",
    "w0 = 0\n",
    "\n",
    "\n",
    "\n",
    "#gradient descent\n",
    "for i in range(1,max_no_iterations):\n",
    "    w[i] = w[i-1] - alpha * f_derivative(w[i-1])\n",
    "    if abs(f_derivative(w[i])) < epsilon:\n",
    "        print(f'Convergence after {i} iterations ')\n",
    "        print(f'the value of w at convergence is approximately {w[i]:.4f}')\n",
    "        break\n"
   ]
  },
  {
   "cell_type": "code",
   "execution_count": 2,
   "id": "eb67a6f6",
   "metadata": {},
   "outputs": [
    {
     "name": "stdout",
     "output_type": "stream",
     "text": [
      "Iteration 1: w = -0.5000, f(w) = 0.3125\n",
      "Iteration 2: w = -0.6500, f(w) = 0.0160\n"
     ]
    }
   ],
   "source": [
    "import numpy as np\n",
    "import matplotlib.pyplot as plt\n",
    "\n",
    "#function and its derivative\n",
    "f = lambda v: v**4-5*v**2-3*v\n",
    "f_derivative = lambda w: 4*w**3 - 10*w - 3\n",
    "\n",
    "max_no_iterations = 3\n",
    "alpha = 0.1\n",
    "w = np.zeros(max_no_iterations)\n",
    "w0 = -2.0\n",
    "w[0] = w0\n",
    "\n",
    "#gradient descent\n",
    "for i in range(1,max_no_iterations):\n",
    "    w[i] = w[i-1] - alpha * f_derivative(w[i-1])\n",
    "    print(f'Iteration {i}: w = {w[i]:.4f}, f(w) = {f(w[i]):.4f}')"
   ]
  },
  {
   "cell_type": "markdown",
   "id": "a509e0b6",
   "metadata": {},
   "source": [
    "(a)"
   ]
  },
  {
   "cell_type": "code",
   "execution_count": 10,
   "id": "40b61d1f",
   "metadata": {},
   "outputs": [
    {
     "name": "stdout",
     "output_type": "stream",
     "text": [
      "Using alpha = 0.2\n",
      "Using alpha = 0.1\n",
      "Convergence after 10 iterations \n",
      "the value of w at convergence is approximately -1.4017\n",
      "Optimal value of f(w) is -1.7584\n",
      "Using alpha = 0.01\n",
      "Convergence after 58 iterations \n",
      "the value of w at convergence is approximately -1.4018\n",
      "Optimal value of f(w) is -1.7584\n",
      "Using alpha = 0.001\n",
      "Convergence after 616 iterations \n",
      "the value of w at convergence is approximately -1.4018\n",
      "Optimal value of f(w) is -1.7584\n"
     ]
    },
    {
     "name": "stderr",
     "output_type": "stream",
     "text": [
      "/var/folders/8f/s8cd84vs6ln67ggwr23649m80000gn/T/ipykernel_13280/4274278412.py:6: RuntimeWarning: overflow encountered in double_scalars\n",
      "  f_derivative = lambda w: 4*w**3 - 10*w - 3\n",
      "/var/folders/8f/s8cd84vs6ln67ggwr23649m80000gn/T/ipykernel_13280/4274278412.py:6: RuntimeWarning: invalid value encountered in double_scalars\n",
      "  f_derivative = lambda w: 4*w**3 - 10*w - 3\n"
     ]
    }
   ],
   "source": [
    "import numpy as np\n",
    "import matplotlib.pyplot as plt\n",
    "\n",
    "#function and its derivative\n",
    "f = lambda v: v**4-5*v**2-3*v\n",
    "f_derivative = lambda w: 4*w**3 - 10*w - 3\n",
    "\n",
    "max_no_iterations = 10000\n",
    "alphas = [0.2,0.1,0.01,0.001]\n",
    "epsilon = 0.001\n",
    "w = np.zeros(max_no_iterations)\n",
    "w0 = -2.0\n",
    "w[0] = w0\n",
    "\n",
    "\n",
    "#gradient descent\n",
    "for alpha in alphas:\n",
    "    print(f'Using alpha = {alpha}')\n",
    "    w[0] = w0  # Reset w[0] for each alpha\n",
    "     #gradient descent\n",
    "    for i in range(1,max_no_iterations):\n",
    "        w[i] = w[i-1] - alpha * f_derivative(w[i-1])\n",
    "        if abs(f_derivative(w[i])) < epsilon:\n",
    "            print(f'Convergence after {i} iterations ')\n",
    "            print(f'the value of w at convergence is approximately {w[i]:.4f}')\n",
    "            print(f'Optimal value of f(w) is {f(w[i]):.4f}')\n",
    "            break"
   ]
  },
  {
   "cell_type": "markdown",
   "id": "2d7144ff",
   "metadata": {},
   "source": [
    "When alpha = 0.2,no optimal value is obtained"
   ]
  },
  {
   "cell_type": "markdown",
   "id": "998a5290",
   "metadata": {},
   "source": [
    "(b)"
   ]
  },
  {
   "cell_type": "code",
   "execution_count": 22,
   "id": "fd0f3e2d",
   "metadata": {},
   "outputs": [
    {
     "data": {
      "image/png": "[encoded data removed]",
      "text/plain": [
       "<Figure size 640x480 with 1 Axes>"
      ]
     },
     "metadata": {},
     "output_type": "display_data"
    }
   ],
   "source": [
    "import matplotlib.pyplot as plt\n",
    "import numpy as np\n",
    "\n",
    "x = np.linspace(-4, 4, 100)\n",
    "y = x**4 - 5*x**2 - 3\n",
    "plt.plot(x, y, label='f(x) = x^4 - 5x^2 - 3')\n",
    "plt.axhline(0, color='black', lw=0.5, ls='--')\n",
    "plt.axvline(0, color='black', lw=0.5, ls='--')\n",
    "plt.title('Function Plot')\n",
    "plt.xlabel('x')\n",
    "plt.ylabel('f(x)')\n",
    "plt.legend()\n",
    "plt.grid()\n",
    "plt.show()"
   ]
  },
  {
   "cell_type": "code",
   "execution_count": 28,
   "id": "172e2edd",
   "metadata": {},
   "outputs": [
    {
     "name": "stdout",
     "output_type": "stream",
     "text": [
      "Convergence after 54 iterations \n",
      "the value of w at convergence is approximately 1.7139\n",
      "Iteration 54, w = 1.7139, f(w) = -11.2003\n"
     ]
    }
   ],
   "source": [
    "import numpy as np\n",
    "import matplotlib.pyplot as plt\n",
    "\n",
    "#function and its derivative\n",
    "f = lambda v: v**4-5*v**2-3*v\n",
    "f_derivative = lambda w: 4*w**3 - 10*w - 3\n",
    "\n",
    "max_no_iterations = 10000\n",
    "alpha = 0.01\n",
    "epsilon = 0.001\n",
    "w = np.zeros(max_no_iterations)\n",
    "w0 = 0.5\n",
    "\n",
    "\n",
    "\n",
    "#gradient descent\n",
    "for i in range(1,max_no_iterations):\n",
    "    w[i] = w[i-1] - alpha * f_derivative(w[i-1])\n",
    "    if abs(f_derivative(w[i])) < epsilon:\n",
    "        print(f'Convergence after {i} iterations ')\n",
    "        print(f'the value of w at convergence is approximately {w[i]:.4f}')\n",
    "        break\n",
    "print(f'Iteration {i}, w = {w[i]:.4f}, f(w) = {f(w[i]):.4f}')"
   ]
  },
  {
   "cell_type": "markdown",
   "id": "ea9477da",
   "metadata": {},
   "source": [
    "For my answer in a,I didn't get the global optimal value of w_0.But if we choose the alpha = 0.01 and w_0 = 0.5,we'll get the global optimal value of w_0."
   ]
  }
 ],
 "metadata": {
  "kernelspec": {
   "display_name": "environment3",
   "language": "python",
   "name": "python3"
  },
  "language_info": {
   "codemirror_mode": {
    "name": "ipython",
    "version": 3
   },
   "file_extension": ".py",
   "mimetype": "text/x-python",
   "name": "python",
   "nbconvert_exporter": "python",
   "pygments_lexer": "ipython3",
   "version": "3.8.20"
  }
 },
 "nbformat": 4,
 "nbformat_minor": 5
}
