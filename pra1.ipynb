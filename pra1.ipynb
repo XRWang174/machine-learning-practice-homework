{
 "cells": [
  {
   "cell_type": "code",
   "execution_count": 3,
   "id": "5244fd3c",
   "metadata": {},
   "outputs": [
    {
     "ename": "ModuleNotFoundError",
     "evalue": "No module named 'numpy'",
     "output_type": "error",
     "traceback": [
      "\u001b[0;31m---------------------------------------------------------------------------\u001b[0m",
      "\u001b[0;31mModuleNotFoundError\u001b[0m                       Traceback (most recent call last)",
      "Cell \u001b[0;32mIn[3], line 1\u001b[0m\n\u001b[0;32m----> 1\u001b[0m \u001b[38;5;28;01mimport\u001b[39;00m\u001b[38;5;250m \u001b[39m\u001b[38;5;21;01mnumpy\u001b[39;00m\u001b[38;5;250m \u001b[39m\u001b[38;5;28;01mas\u001b[39;00m\u001b[38;5;250m \u001b[39m\u001b[38;5;21;01mnp\u001b[39;00m\n\u001b[1;32m      2\u001b[0m a \u001b[38;5;241m=\u001b[39m np\u001b[38;5;241m.\u001b[39marray([\u001b[38;5;241m1\u001b[39m, \u001b[38;5;241m2\u001b[39m, \u001b[38;5;241m3\u001b[39m, \u001b[38;5;241m4\u001b[39m, \u001b[38;5;241m5\u001b[39m])\u001b[38;5;66;03m#创建numpy数组\u001b[39;00m\n\u001b[1;32m      3\u001b[0m A \u001b[38;5;241m=\u001b[39m np\u001b[38;5;241m.\u001b[39marray([[\u001b[38;5;241m1\u001b[39m], [\u001b[38;5;241m2\u001b[39m], [\u001b[38;5;241m3\u001b[39m], [\u001b[38;5;241m4\u001b[39m], [\u001b[38;5;241m5\u001b[39m]])\u001b[38;5;66;03m#创建二维numpy数组\u001b[39;00m\n",
      "\u001b[0;31mModuleNotFoundError\u001b[0m: No module named 'numpy'"
     ]
    }
   ],
   "source": [
    "import numpy as np\n",
    "a = np.array([1, 2, 3, 4, 5])#创建numpy数组\n",
    "A = np.array([[1], [2], [3], [4], [5]])#创建二维numpy数组\n",
    "A_1 = np.array([1,2,3,4,5,6]).reshape(2,3)#创建二维numpy数组并重塑形状\n",
    "print(a.ndim)#输出数组的维度\n",
    "print(a.shape)#输出数组的形状\n",
    "print(a.dtype)#输出数组的数据类型\n",
    "print(a.size)#输出数组的元素个数\n",
    "print(len(a))#输出数组的长度\n",
    "\n",
    "\n",
    "b1 = np.ones(2,3)#创建一个2行3列的全1数组\n",
    "b2 = np.zeros((2,3))#创建一个2行3列的全0数组\n",
    "b3 = np.empty((2,3))#创建一个2行3列的空数组\n",
    "b4 = np.eye(3)#创建一个3x3的单位矩阵\n",
    "b5 = np.arange(1, 10, 2)#创建一个从1到9的步长为2的数组\n",
    "b6 = np.linspace(1, 10, 5)#创建一个从1到10的5个等间距的数\n",
    "b7 = np.random.rand(2, 3)#创建一个2行3列的随机数组\n",
    "b8 = np.random.randn(2, 3)#创建一个2行3列的标准正态分布随机数组\n",
    "b9 = np.random.randint(1, 10, (2, 3))#创建一个2行3列的随机整数数组，范围从1到10\n",
    "b10 = np.random.choice([1, 2, 3, 4, 5], size=(2, 3), replace=True)#创建一个2行3列的随机选择数组，允许重复选择\n",
    "b11 = np.random.seed(42)  # 设置随机种子以确保结果可重复\n"
   ]
  },
  {
   "cell_type": "markdown",
   "id": "757f30c7",
   "metadata": {},
   "source": [
    "pyplot基本操作"
   ]
  },
  {
   "cell_type": "code",
   "execution_count": 7,
   "id": "ab526c5c",
   "metadata": {},
   "outputs": [
    {
     "ename": "ModuleNotFoundError",
     "evalue": "No module named 'd2l'",
     "output_type": "error",
     "traceback": [
      "\u001b[0;31m---------------------------------------------------------------------------\u001b[0m",
      "\u001b[0;31mModuleNotFoundError\u001b[0m                       Traceback (most recent call last)",
      "Cell \u001b[0;32mIn[7], line 1\u001b[0m\n\u001b[0;32m----> 1\u001b[0m \u001b[38;5;28;01mfrom\u001b[39;00m\u001b[38;5;250m \u001b[39m\u001b[38;5;21;01md2l\u001b[39;00m\u001b[38;5;250m \u001b[39m\u001b[38;5;28;01mimport\u001b[39;00m matplotlib \u001b[38;5;28;01mas\u001b[39;00m plt\n\u001b[1;32m      2\u001b[0m \u001b[38;5;66;03m# 绘制一个简单的折线图\u001b[39;00m\n\u001b[1;32m      3\u001b[0m x \u001b[38;5;241m=\u001b[39m np\u001b[38;5;241m.\u001b[39mlinspace(\u001b[38;5;241m0\u001b[39m, \u001b[38;5;241m10\u001b[39m, \u001b[38;5;241m100\u001b[39m)  \u001b[38;5;66;03m# 生成从0到10的100个点\u001b[39;00m\n",
      "\u001b[0;31mModuleNotFoundError\u001b[0m: No module named 'd2l'"
     ]
    }
   ],
   "source": [
    "import matplotlib.pyplot as plt\n",
    "# 绘制一个简单的折线图\n",
    "x = np.linspace(0, 10, 100)  # 生成从0到10的100个点\n",
    "y = np.sin(x)  # 计算这些点的正弦值\n",
    "plt.plot(x, y)  # 绘制折线图\n",
    "plt.title('Sine Wave')  # 设置图表标题\n",
    "plt.xlabel('X-axis')  # 设置X轴标签\n",
    "plt.ylabel('Y-axis')  # 设置Y轴标签\n",
    "plt.grid(True)  # 添加网格\n",
    "plt.show()  # 显示图表\n",
    "\n",
    "\n"
   ]
  },
  {
   "cell_type": "markdown",
   "id": "02a132e3",
   "metadata": {},
   "source": [
    "Pandas基本操作"
   ]
  },
  {
   "cell_type": "code",
   "execution_count": null,
   "id": "6318645f",
   "metadata": {},
   "outputs": [],
   "source": [
    "import pandas as pd\n",
    "# 创建一个简单的 DataFrame\n",
    "data = {\n",
    "    'Name': ['Alice', 'Bob', 'Charlie'],\n",
    "    'Age': [25, 30, 35],\n",
    "    'City': ['New York', 'Los Angeles', 'Chicago']\n",
    "}\n",
    "df = pd.DataFrame(data)\n",
    "print(df)  # 打印 DataFrame\n",
    "print(df.head())  # 打印前5行\n",
    "print(df.describe())  # 打印统计信息\n",
    "print(df['Name'])  # 打印 Name 列\n",
    "print(df[['Name', 'Age']])  # 打印 Name 和 Age 列\n",
    "print(df[df['Age'] > 30])  # 打印 Age 大于30的行\n",
    "print(df.sort_values(by='Age'))  # 按 Age 列排序    \n",
    "\n",
    "\n",
    "dataframe = pd.read_csv('data.csv')  # 从 CSV 文件读取数据"
   ]
  }
 ],
 "metadata": {
  "kernelspec": {
   "display_name": "environment2",
   "language": "python",
   "name": "python3"
  },
  "language_info": {
   "codemirror_mode": {
    "name": "ipython",
    "version": 3
   },
   "file_extension": ".py",
   "mimetype": "text/x-python",
   "name": "python",
   "nbconvert_exporter": "python",
   "pygments_lexer": "ipython3",
   "version": "3.9.23"
  }
 },
 "nbformat": 4,
 "nbformat_minor": 5
}
