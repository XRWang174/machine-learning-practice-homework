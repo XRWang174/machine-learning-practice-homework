{
 "cells": [
  {
   "cell_type": "markdown",
   "id": "7c006441",
   "metadata": {},
   "source": [
    "# NumPy 基础练习\n",
    "\n",
    "## 安装 NumPy（使用国内镜像源）\n",
    "\n",
    "由于网络原因，在中国大陆使用 pip 安装包时可能较慢。推荐使用以下国内镜像源：\n",
    "\n",
    "### 方法一：临时使用镜像源\n",
    "```bash\n",
    "# 使用清华镜像源（推荐）\n",
    "pip install numpy -i https://pypi.tuna.tsinghua.edu.cn/simple/\n",
    "\n",
    "# 使用阿里云镜像源\n",
    "pip install numpy -i https://mirrors.aliyun.com/pypi/simple/\n",
    "\n",
    "# 使用豆瓣镜像源\n",
    "pip install numpy -i https://pypi.douban.com/simple/\n",
    "\n",
    "# 使用中科大镜像源\n",
    "pip install numpy -i https://pypi.mirrors.ustc.edu.cn/simple/\n",
    "```\n",
    "\n",
    "### 方法二：永久配置镜像源\n",
    "在用户目录下创建或编辑 `~/.pip/pip.conf` (Linux/Mac) 或 `%APPDATA%\\pip\\pip.ini` (Windows)：\n",
    "\n",
    "```ini\n",
    "[global]\n",
    "index-url = https://pypi.tuna.tsinghua.edu.cn/simple/\n",
    "trusted-host = pypi.tuna.tsinghua.edu.cn\n",
    "```\n",
    "\n",
    "### 方法三：在 Jupyter Notebook 中直接安装"
   ]
  },
  {
   "cell_type": "code",
   "execution_count": null,
   "id": "99657a32",
   "metadata": {},
   "outputs": [],
   "source": [
    "# 在 Jupyter Notebook 中使用国内镜像源安装 numpy\n",
    "# 注意：如果已经安装了 numpy，这些命令会跳过或升级\n",
    "\n",
    "# 方法1：使用清华镜像源（推荐速度最快）\n",
    "# !pip install numpy -i https://pypi.tuna.tsinghua.edu.cn/simple/\n",
    "\n",
    "# 方法2：使用阿里云镜像源\n",
    "# !pip install numpy -i https://mirrors.aliyun.com/pypi/simple/\n",
    "\n",
    "# 方法3：使用豆瓣镜像源\n",
    "# !pip install numpy -i https://pypi.douban.com/simple/\n",
    "\n",
    "# 检查 numpy 是否已安装及版本信息\n",
    "try:\n",
    "    import numpy as np\n",
    "    print(f\"✅ NumPy 已安装，版本: {np.__version__}\")\n",
    "    print(f\"📦 安装路径: {np.__file__}\")\n",
    "except ImportError:\n",
    "    print(\"❌ NumPy 未安装，请运行上方的安装命令\")\n",
    "\n",
    "# 如果需要安装其他常用科学计算包，也可以使用镜像源：\n",
    "# !pip install pandas matplotlib scikit-learn -i https://pypi.tuna.tsinghua.edu.cn/simple/"
   ]
  },
  {
   "cell_type": "markdown",
   "id": "1c2aedcb",
   "metadata": {},
   "source": [
    "## 国内镜像源对比\n",
    "\n",
    "| 镜像源 | 地址 | 特点 | 推荐指数 |\n",
    "|--------|------|------|----------|\n",
    "| 清华大学 | `https://pypi.tuna.tsinghua.edu.cn/simple/` | 🚀 速度快，更新及时 | ⭐⭐⭐⭐⭐ |\n",
    "| 阿里云 | `https://mirrors.aliyun.com/pypi/simple/` | 🔄 稳定性好 | ⭐⭐⭐⭐ |\n",
    "| 豆瓣 | `https://pypi.douban.com/simple/` | 📚 老牌镜像 | ⭐⭐⭐ |\n",
    "| 中科大 | `https://pypi.mirrors.ustc.edu.cn/simple/` | 🎓 教育网友好 | ⭐⭐⭐⭐ |\n",
    "\n",
    "## 💡 使用技巧\n",
    "\n",
    "1. **测试网络速度**：可以先用浏览器访问镜像源地址，选择最快的\n",
    "2. **临时vs永久**：偶尔使用建议临时指定，经常使用建议永久配置\n",
    "3. **信任主机**：如果遇到SSL证书问题，添加 `--trusted-host` 参数\n",
    "4. **批量安装**：安装多个包时，所有包都会使用同一镜像源\n",
    "\n",
    "---\n",
    "\n",
    "## NumPy 数组基础操作"
   ]
  },
  {
   "cell_type": "code",
   "execution_count": 3,
   "id": "5244fd3c",
   "metadata": {},
   "outputs": [
    {
     "ename": "ModuleNotFoundError",
     "evalue": "No module named 'numpy'",
     "output_type": "error",
     "traceback": [
      "\u001b[0;31m---------------------------------------------------------------------------\u001b[0m",
      "\u001b[0;31mModuleNotFoundError\u001b[0m                       Traceback (most recent call last)",
      "Cell \u001b[0;32mIn[3], line 1\u001b[0m\n\u001b[0;32m----> 1\u001b[0m \u001b[38;5;28;01mimport\u001b[39;00m\u001b[38;5;250m \u001b[39m\u001b[38;5;21;01mnumpy\u001b[39;00m\u001b[38;5;250m \u001b[39m\u001b[38;5;28;01mas\u001b[39;00m\u001b[38;5;250m \u001b[39m\u001b[38;5;21;01mnp\u001b[39;00m\n\u001b[1;32m      2\u001b[0m a \u001b[38;5;241m=\u001b[39m np\u001b[38;5;241m.\u001b[39marray([\u001b[38;5;241m1\u001b[39m, \u001b[38;5;241m2\u001b[39m, \u001b[38;5;241m3\u001b[39m, \u001b[38;5;241m4\u001b[39m, \u001b[38;5;241m5\u001b[39m])\u001b[38;5;66;03m#创建numpy数组\u001b[39;00m\n\u001b[1;32m      3\u001b[0m A \u001b[38;5;241m=\u001b[39m np\u001b[38;5;241m.\u001b[39marray([[\u001b[38;5;241m1\u001b[39m], [\u001b[38;5;241m2\u001b[39m], [\u001b[38;5;241m3\u001b[39m], [\u001b[38;5;241m4\u001b[39m], [\u001b[38;5;241m5\u001b[39m]])\u001b[38;5;66;03m#创建二维numpy数组\u001b[39;00m\n",
      "\u001b[0;31mModuleNotFoundError\u001b[0m: No module named 'numpy'"
     ]
    }
   ],
   "source": [
    "import numpy as np\n",
    "a = np.array([1, 2, 3, 4, 5])#创建numpy数组\n",
    "A = np.array([[1], [2], [3], [4], [5]])#创建二维numpy数组\n",
    "A_1 = np.array([1,2,3,4,5,6]).reshape(2,3)#创建二维numpy数组并重塑形状\n",
    "print(a.ndim)#输出数组的维度\n",
    "print(a.shape)#输出数组的形状\n",
    "print(a.dtype)#输出数组的数据类型\n",
    "print(a.size)#输出数组的元素个数\n",
    "print(len(a))#输出数组的长度\n",
    "\n",
    "\n",
    "b1 = np.ones(2,3)#创建一个2行3列的全1数组\n",
    "b2 = np.zeros((2,3))#创建一个2行3列的全0数组\n",
    "b3 = np.empty((2,3))#创建一个2行3列的空数组\n",
    "b4 = np.eye(3)#创建一个3x3的单位矩阵\n",
    "b5 = np.arange(1, 10, 2)#创建一个从1到9的步长为2的数组\n",
    "b6 = np.linspace(1, 10, 5)#创建一个从1到10的5个等间距的数\n",
    "b7 = np.random.rand(2, 3)#创建一个2行3列的随机数组\n",
    "b8 = np.random.randn(2, 3)#创建一个2行3列的标准正态分布随机数组\n",
    "b9 = np.random.randint(1, 10, (2, 3))#创建一个2行3列的随机整数数组，范围从1到10\n",
    "b10 = np.random.choice([1, 2, 3, 4, 5], size=(2, 3), replace=True)#创建一个2行3列的随机选择数组，允许重复选择\n",
    "b11 = np.random.seed(42)  # 设置随机种子以确保结果可重复\n"
   ]
  },
  {
   "cell_type": "code",
   "execution_count": 4,
   "id": "35b420a4",
   "metadata": {},
   "outputs": [
    {
     "ename": "ModuleNotFoundError",
     "evalue": "No module named 'matplotlib'",
     "output_type": "error",
     "traceback": [
      "\u001b[0;31m---------------------------------------------------------------------------\u001b[0m",
      "\u001b[0;31mModuleNotFoundError\u001b[0m                       Traceback (most recent call last)",
      "Cell \u001b[0;32mIn[4], line 1\u001b[0m\n\u001b[0;32m----> 1\u001b[0m \u001b[38;5;28;01mimport\u001b[39;00m\u001b[38;5;250m \u001b[39m\u001b[38;5;21;01mmatplotlib\u001b[39;00m\u001b[38;5;21;01m.\u001b[39;00m\u001b[38;5;21;01mpyplot\u001b[39;00m\u001b[38;5;250m \u001b[39m\u001b[38;5;28;01mas\u001b[39;00m\u001b[38;5;250m \u001b[39m\u001b[38;5;21;01mplt\u001b[39;00m\n\u001b[1;32m      2\u001b[0m \u001b[38;5;66;03m# 绘制一个简单的折线图\u001b[39;00m\n\u001b[1;32m      3\u001b[0m x \u001b[38;5;241m=\u001b[39m np\u001b[38;5;241m.\u001b[39mlinspace(\u001b[38;5;241m0\u001b[39m, \u001b[38;5;241m10\u001b[39m, \u001b[38;5;241m100\u001b[39m)  \u001b[38;5;66;03m# 生成从0到10的100个点\u001b[39;00m\n",
      "\u001b[0;31mModuleNotFoundError\u001b[0m: No module named 'matplotlib'"
     ]
    }
   ],
   "source": [
    "import matplotlib.pyplot as plt\n",
    "# 绘制一个简单的折线图\n",
    "x = np.linspace(0, 10, 100)  # 生成从0到10的100个点\n",
    "y = np.sin(x)  # 计算这些点的正弦值\n",
    "plt.plot(x, y)  # 绘制折线图\n",
    "plt.title('Sine Wave')  # 设置图表标题\n",
    "plt.xlabel('X-axis')  # 设置X轴标签\n",
    "plt.ylabel('Y-axis')  # 设置Y轴标签\n",
    "plt.grid(True)  # 添加网格\n",
    "plt.show()  # 显示图表\n",
    "\n",
    "\n"
   ]
  }
 ],
 "metadata": {
  "kernelspec": {
   "display_name": "environment2",
   "language": "python",
   "name": "python3"
  },
  "language_info": {
   "codemirror_mode": {
    "name": "ipython",
    "version": 3
   },
   "file_extension": ".py",
   "mimetype": "text/x-python",
   "name": "python",
   "nbconvert_exporter": "python",
   "pygments_lexer": "ipython3",
   "version": "3.9.23"
  }
 },
 "nbformat": 4,
 "nbformat_minor": 5
}
